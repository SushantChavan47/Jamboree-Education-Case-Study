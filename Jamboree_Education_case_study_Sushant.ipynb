{
 "cells": [
  {
   "cell_type": "markdown",
   "id": "b9a8b807",
   "metadata": {},
   "source": [
    "# <center>Jamboree Business Case Study</center>"
   ]
  },
  {
   "cell_type": "markdown",
   "id": "6291d4c8",
   "metadata": {},
   "source": [
    "## Introduction\n",
    "- Jamboree is a renowned educational institution that has successfully assisted numerous\n",
    " students in gaining admission to top colleges abroad. With their proven\n",
    " problem-solving methods, they have helped students achieve exceptional scores on\n",
    " exams like GMAT, GRE, and SAT with minimal effort.<br><br>\n",
    "- To further support students, Jamboree has recently introduced a new feature on their\n",
    " website. This feature enables students to assess their probability of admission to Ivy\n",
    " League colleges, considering the unique perspective of Indian applicants."
   ]
  },
  {
   "cell_type": "markdown",
   "id": "ce25856a",
   "metadata": {},
   "source": [
    "### Problem Statement: \n",
    "- Jamboree, an educational institution specializing in helping students with admissions to top colleges abroad, has introduced a feature to assess Ivy League admission chances for Indian applicants. As a data scientist/ML engineer, your task is to analyze the dataset to identify key factors influencing graduate admissions and develop a predictive model to estimate an applicant's admission probability based on various features."
   ]
  },
  {
   "cell_type": "markdown",
   "id": "8b7d7853",
   "metadata": {},
   "source": [
    "### 1. Basic data cleaning and exploration <br>\n",
    "The analysis was conducted on the data located at - https://drive.google.com/file/d/1UCnSk_NN02jlzj0bbSZ_j-gdGUDDJxy4/view"
   ]
  },
  {
   "cell_type": "code",
   "execution_count": 1,
   "id": "055ae77e",
   "metadata": {},
   "outputs": [],
   "source": [
    "#import libraries\n",
    "import numpy as np\n",
    "import pandas as pd\n",
    "import matplotlib.pyplot as plt\n",
    "import seaborn as sns\n",
    "from IPython.display import display, HTML\n",
    "from sklearn.model_selection import train_test_split\n",
    "from sklearn.preprocessing import MinMaxScaler,StandardScaler, PolynomialFeatures\n",
    "from sklearn.linear_model import LinearRegression\n",
    "from statsmodels.stats.outliers_influence import variance_inflation_factor\n",
    "from statsmodels.stats.diagnostic import het_goldfeldquandt\n",
    "from sklearn.linear_model import Lasso,Ridge\n",
    "from sklearn.metrics import mean_absolute_error, mean_squared_error, r2_score\n",
    "from sklearn.pipeline import make_pipeline\n",
    "import warnings\n",
    "warnings.filterwarnings(\"ignore\", category=FutureWarning)"
   ]
  },
  {
   "cell_type": "code",
   "execution_count": 2,
   "id": "a6fd5af9",
   "metadata": {},
   "outputs": [
    {
     "data": {
      "text/html": [
       "<div>\n",
       "<style scoped>\n",
       "    .dataframe tbody tr th:only-of-type {\n",
       "        vertical-align: middle;\n",
       "    }\n",
       "\n",
       "    .dataframe tbody tr th {\n",
       "        vertical-align: top;\n",
       "    }\n",
       "\n",
       "    .dataframe thead th {\n",
       "        text-align: right;\n",
       "    }\n",
       "</style>\n",
       "<table border=\"1\" class=\"dataframe\">\n",
       "  <thead>\n",
       "    <tr style=\"text-align: right;\">\n",
       "      <th></th>\n",
       "      <th>Serial No.</th>\n",
       "      <th>GRE Score</th>\n",
       "      <th>TOEFL Score</th>\n",
       "      <th>University Rating</th>\n",
       "      <th>SOP</th>\n",
       "      <th>LOR</th>\n",
       "      <th>CGPA</th>\n",
       "      <th>Research</th>\n",
       "      <th>Chance of Admit</th>\n",
       "    </tr>\n",
       "  </thead>\n",
       "  <tbody>\n",
       "    <tr>\n",
       "      <th>0</th>\n",
       "      <td>1</td>\n",
       "      <td>337</td>\n",
       "      <td>118</td>\n",
       "      <td>4</td>\n",
       "      <td>4.5</td>\n",
       "      <td>4.5</td>\n",
       "      <td>9.65</td>\n",
       "      <td>1</td>\n",
       "      <td>0.92</td>\n",
       "    </tr>\n",
       "    <tr>\n",
       "      <th>1</th>\n",
       "      <td>2</td>\n",
       "      <td>324</td>\n",
       "      <td>107</td>\n",
       "      <td>4</td>\n",
       "      <td>4.0</td>\n",
       "      <td>4.5</td>\n",
       "      <td>8.87</td>\n",
       "      <td>1</td>\n",
       "      <td>0.76</td>\n",
       "    </tr>\n",
       "    <tr>\n",
       "      <th>2</th>\n",
       "      <td>3</td>\n",
       "      <td>316</td>\n",
       "      <td>104</td>\n",
       "      <td>3</td>\n",
       "      <td>3.0</td>\n",
       "      <td>3.5</td>\n",
       "      <td>8.00</td>\n",
       "      <td>1</td>\n",
       "      <td>0.72</td>\n",
       "    </tr>\n",
       "    <tr>\n",
       "      <th>3</th>\n",
       "      <td>4</td>\n",
       "      <td>322</td>\n",
       "      <td>110</td>\n",
       "      <td>3</td>\n",
       "      <td>3.5</td>\n",
       "      <td>2.5</td>\n",
       "      <td>8.67</td>\n",
       "      <td>1</td>\n",
       "      <td>0.80</td>\n",
       "    </tr>\n",
       "    <tr>\n",
       "      <th>4</th>\n",
       "      <td>5</td>\n",
       "      <td>314</td>\n",
       "      <td>103</td>\n",
       "      <td>2</td>\n",
       "      <td>2.0</td>\n",
       "      <td>3.0</td>\n",
       "      <td>8.21</td>\n",
       "      <td>0</td>\n",
       "      <td>0.65</td>\n",
       "    </tr>\n",
       "  </tbody>\n",
       "</table>\n",
       "</div>"
      ],
      "text/plain": [
       "   Serial No.  GRE Score  TOEFL Score  University Rating  SOP  LOR   CGPA  \\\n",
       "0           1        337          118                  4  4.5   4.5  9.65   \n",
       "1           2        324          107                  4  4.0   4.5  8.87   \n",
       "2           3        316          104                  3  3.0   3.5  8.00   \n",
       "3           4        322          110                  3  3.5   2.5  8.67   \n",
       "4           5        314          103                  2  2.0   3.0  8.21   \n",
       "\n",
       "   Research  Chance of Admit   \n",
       "0         1              0.92  \n",
       "1         1              0.76  \n",
       "2         1              0.72  \n",
       "3         1              0.80  \n",
       "4         0              0.65  "
      ]
     },
     "execution_count": 2,
     "metadata": {},
     "output_type": "execute_result"
    }
   ],
   "source": [
    "df = pd.read_csv('Jamboree.csv')\n",
    "df.head()"
   ]
  },
  {
   "cell_type": "code",
   "execution_count": 3,
   "id": "e1e2b266",
   "metadata": {},
   "outputs": [],
   "source": [
    "# As attribute Serial No is irrelevant we can drop.\n",
    "df = df.drop(\"Serial No.\", axis=1)"
   ]
  },
  {
   "cell_type": "code",
   "execution_count": 4,
   "id": "65c71b86",
   "metadata": {},
   "outputs": [
    {
     "data": {
      "text/plain": [
       "(500, 8)"
      ]
     },
     "execution_count": 4,
     "metadata": {},
     "output_type": "execute_result"
    }
   ],
   "source": [
    "df.shape"
   ]
  },
  {
   "cell_type": "markdown",
   "id": "4b996e76",
   "metadata": {},
   "source": [
    "- **A quick overview of the data indicates it consists of 500 rows and 8 columns.**"
   ]
  },
  {
   "cell_type": "code",
   "execution_count": 5,
   "id": "1dbf7081",
   "metadata": {},
   "outputs": [
    {
     "name": "stdout",
     "output_type": "stream",
     "text": [
      "<class 'pandas.core.frame.DataFrame'>\n",
      "RangeIndex: 500 entries, 0 to 499\n",
      "Data columns (total 8 columns):\n",
      " #   Column             Non-Null Count  Dtype  \n",
      "---  ------             --------------  -----  \n",
      " 0   GRE Score          500 non-null    int64  \n",
      " 1   TOEFL Score        500 non-null    int64  \n",
      " 2   University Rating  500 non-null    int64  \n",
      " 3   SOP                500 non-null    float64\n",
      " 4   LOR                500 non-null    float64\n",
      " 5   CGPA               500 non-null    float64\n",
      " 6   Research           500 non-null    int64  \n",
      " 7   Chance of Admit    500 non-null    float64\n",
      "dtypes: float64(4), int64(4)\n",
      "memory usage: 31.4 KB\n"
     ]
    }
   ],
   "source": [
    "# To check data types of each column\n",
    "df.info()"
   ]
  },
  {
   "cell_type": "code",
   "execution_count": 6,
   "id": "1674bf84",
   "metadata": {},
   "outputs": [
    {
     "data": {
      "text/plain": [
       "0"
      ]
     },
     "execution_count": 6,
     "metadata": {},
     "output_type": "execute_result"
    }
   ],
   "source": [
    "#To check duplicate values\n",
    "df.duplicated().sum()"
   ]
  },
  {
   "cell_type": "code",
   "execution_count": 7,
   "id": "829234ce",
   "metadata": {},
   "outputs": [
    {
     "data": {
      "text/plain": [
       "GRE Score            0\n",
       "TOEFL Score          0\n",
       "University Rating    0\n",
       "SOP                  0\n",
       "LOR                  0\n",
       "CGPA                 0\n",
       "Research             0\n",
       "Chance of Admit      0\n",
       "dtype: int64"
      ]
     },
     "execution_count": 7,
     "metadata": {},
     "output_type": "execute_result"
    }
   ],
   "source": [
    "#To check missing values\n",
    "df.isnull().sum() "
   ]
  },
  {
   "cell_type": "markdown",
   "id": "07f3bd77",
   "metadata": {},
   "source": [
    "- **There are no duplicate and missing(null) values present in the dataset.**"
   ]
  },
  {
   "cell_type": "code",
   "execution_count": 8,
   "id": "ccef7209",
   "metadata": {},
   "outputs": [
    {
     "data": {
      "text/plain": [
       "GRE Score             49\n",
       "TOEFL Score           29\n",
       "University Rating      5\n",
       "SOP                    9\n",
       "LOR                    9\n",
       "CGPA                 184\n",
       "Research               2\n",
       "Chance of Admit       61\n",
       "dtype: int64"
      ]
     },
     "execution_count": 8,
     "metadata": {},
     "output_type": "execute_result"
    }
   ],
   "source": [
    "#unique records present each column\n",
    "df.nunique()"
   ]
  },
  {
   "cell_type": "code",
   "execution_count": 9,
   "id": "cba6ba60",
   "metadata": {},
   "outputs": [
    {
     "data": {
      "text/html": [
       "<div>\n",
       "<style scoped>\n",
       "    .dataframe tbody tr th:only-of-type {\n",
       "        vertical-align: middle;\n",
       "    }\n",
       "\n",
       "    .dataframe tbody tr th {\n",
       "        vertical-align: top;\n",
       "    }\n",
       "\n",
       "    .dataframe thead th {\n",
       "        text-align: right;\n",
       "    }\n",
       "</style>\n",
       "<table border=\"1\" class=\"dataframe\">\n",
       "  <thead>\n",
       "    <tr style=\"text-align: right;\">\n",
       "      <th></th>\n",
       "      <th>GRE Score</th>\n",
       "      <th>TOEFL Score</th>\n",
       "      <th>University Rating</th>\n",
       "      <th>SOP</th>\n",
       "      <th>LOR</th>\n",
       "      <th>CGPA</th>\n",
       "      <th>Research</th>\n",
       "      <th>Chance of Admit</th>\n",
       "    </tr>\n",
       "  </thead>\n",
       "  <tbody>\n",
       "    <tr>\n",
       "      <th>count</th>\n",
       "      <td>500.000000</td>\n",
       "      <td>500.000000</td>\n",
       "      <td>500.000000</td>\n",
       "      <td>500.000000</td>\n",
       "      <td>500.00000</td>\n",
       "      <td>500.000000</td>\n",
       "      <td>500.000000</td>\n",
       "      <td>500.00000</td>\n",
       "    </tr>\n",
       "    <tr>\n",
       "      <th>mean</th>\n",
       "      <td>316.472000</td>\n",
       "      <td>107.192000</td>\n",
       "      <td>3.114000</td>\n",
       "      <td>3.374000</td>\n",
       "      <td>3.48400</td>\n",
       "      <td>8.576440</td>\n",
       "      <td>0.560000</td>\n",
       "      <td>0.72174</td>\n",
       "    </tr>\n",
       "    <tr>\n",
       "      <th>std</th>\n",
       "      <td>11.295148</td>\n",
       "      <td>6.081868</td>\n",
       "      <td>1.143512</td>\n",
       "      <td>0.991004</td>\n",
       "      <td>0.92545</td>\n",
       "      <td>0.604813</td>\n",
       "      <td>0.496884</td>\n",
       "      <td>0.14114</td>\n",
       "    </tr>\n",
       "    <tr>\n",
       "      <th>min</th>\n",
       "      <td>290.000000</td>\n",
       "      <td>92.000000</td>\n",
       "      <td>1.000000</td>\n",
       "      <td>1.000000</td>\n",
       "      <td>1.00000</td>\n",
       "      <td>6.800000</td>\n",
       "      <td>0.000000</td>\n",
       "      <td>0.34000</td>\n",
       "    </tr>\n",
       "    <tr>\n",
       "      <th>25%</th>\n",
       "      <td>308.000000</td>\n",
       "      <td>103.000000</td>\n",
       "      <td>2.000000</td>\n",
       "      <td>2.500000</td>\n",
       "      <td>3.00000</td>\n",
       "      <td>8.127500</td>\n",
       "      <td>0.000000</td>\n",
       "      <td>0.63000</td>\n",
       "    </tr>\n",
       "    <tr>\n",
       "      <th>50%</th>\n",
       "      <td>317.000000</td>\n",
       "      <td>107.000000</td>\n",
       "      <td>3.000000</td>\n",
       "      <td>3.500000</td>\n",
       "      <td>3.50000</td>\n",
       "      <td>8.560000</td>\n",
       "      <td>1.000000</td>\n",
       "      <td>0.72000</td>\n",
       "    </tr>\n",
       "    <tr>\n",
       "      <th>75%</th>\n",
       "      <td>325.000000</td>\n",
       "      <td>112.000000</td>\n",
       "      <td>4.000000</td>\n",
       "      <td>4.000000</td>\n",
       "      <td>4.00000</td>\n",
       "      <td>9.040000</td>\n",
       "      <td>1.000000</td>\n",
       "      <td>0.82000</td>\n",
       "    </tr>\n",
       "    <tr>\n",
       "      <th>max</th>\n",
       "      <td>340.000000</td>\n",
       "      <td>120.000000</td>\n",
       "      <td>5.000000</td>\n",
       "      <td>5.000000</td>\n",
       "      <td>5.00000</td>\n",
       "      <td>9.920000</td>\n",
       "      <td>1.000000</td>\n",
       "      <td>0.97000</td>\n",
       "    </tr>\n",
       "  </tbody>\n",
       "</table>\n",
       "</div>"
      ],
      "text/plain": [
       "        GRE Score  TOEFL Score  University Rating         SOP       LOR   \\\n",
       "count  500.000000   500.000000         500.000000  500.000000  500.00000   \n",
       "mean   316.472000   107.192000           3.114000    3.374000    3.48400   \n",
       "std     11.295148     6.081868           1.143512    0.991004    0.92545   \n",
       "min    290.000000    92.000000           1.000000    1.000000    1.00000   \n",
       "25%    308.000000   103.000000           2.000000    2.500000    3.00000   \n",
       "50%    317.000000   107.000000           3.000000    3.500000    3.50000   \n",
       "75%    325.000000   112.000000           4.000000    4.000000    4.00000   \n",
       "max    340.000000   120.000000           5.000000    5.000000    5.00000   \n",
       "\n",
       "             CGPA    Research  Chance of Admit   \n",
       "count  500.000000  500.000000         500.00000  \n",
       "mean     8.576440    0.560000           0.72174  \n",
       "std      0.604813    0.496884           0.14114  \n",
       "min      6.800000    0.000000           0.34000  \n",
       "25%      8.127500    0.000000           0.63000  \n",
       "50%      8.560000    1.000000           0.72000  \n",
       "75%      9.040000    1.000000           0.82000  \n",
       "max      9.920000    1.000000           0.97000  "
      ]
     },
     "execution_count": 9,
     "metadata": {},
     "output_type": "execute_result"
    }
   ],
   "source": [
    "# Statistical summary of the entire dataset\n",
    "df.describe()"
   ]
  },
  {
   "cell_type": "markdown",
   "id": "a1783a71",
   "metadata": {},
   "source": [
    "### 2. Outlier detection"
   ]
  },
  {
   "cell_type": "code",
   "execution_count": 10,
   "id": "8e10120e",
   "metadata": {},
   "outputs": [
    {
     "data": {
      "image/png": "[encoded data removed]",
      "text/plain": [
       "<Figure size 864x576 with 7 Axes>"
      ]
     },
     "metadata": {
      "needs_background": "light"
     },
     "output_type": "display_data"
    }
   ],
   "source": [
    "plt.figure(figsize=(12, 8))\n",
    "# Plot boxplots for each  variable\n",
    "for i, col in enumerate(df, 1):\n",
    "    if col == 'Research':\n",
    "        continue\n",
    "    plt.subplot(4, 2, i)  # Create a subplot for each variable\n",
    "    sns.boxplot(x=col, data=df)\n",
    "    \n",
    "plt.tight_layout()\n",
    "plt.show()"
   ]
  },
  {
   "cell_type": "markdown",
   "id": "f44b8fd0",
   "metadata": {},
   "source": [
    "**Note:**\n",
    "- The data shows no significant outliers."
   ]
  },
  {
   "cell_type": "markdown",
   "id": "823e4b80",
   "metadata": {},
   "source": [
    "### 3. Univariate Analysis"
   ]
  },
  {
   "cell_type": "code",
   "execution_count": 11,
   "id": "b35ff727",
   "metadata": {},
   "outputs": [
    {
     "data": {
      "image/png": "[encoded data removed]",
      "text/plain": [
       "<Figure size 1008x864 with 8 Axes>"
      ]
     },
     "metadata": {
      "needs_background": "light"
     },
     "output_type": "display_data"
    }
   ],
   "source": [
    "plt.figure(figsize=(14,12))\n",
    "i=1\n",
    "for col in df:\n",
    "    ax=plt.subplot(4,2,i)\n",
    "    sns.histplot(data=df[col], kde=True)\n",
    "    plt.title(f'Distribution of {col}')\n",
    "    plt.xlabel(col)\n",
    "    plt.ylabel('Count of Students')\n",
    "    i += 1\n",
    "\n",
    "plt.tight_layout()\n",
    "plt.show();"
   ]
  },
  {
   "cell_type": "code",
   "execution_count": 12,
   "id": "c7c695cc",
   "metadata": {},
   "outputs": [
    {
     "data": {
      "text/html": [
       "<b>GRE Score</b>"
      ],
      "text/plain": [
       "<IPython.core.display.HTML object>"
      ]
     },
     "metadata": {},
     "output_type": "display_data"
    },
    {
     "data": {
      "text/html": [
       "Range of attribute GRE Score is from <b>290</b> to <b>340.</b>"
      ],
      "text/plain": [
       "<IPython.core.display.HTML object>"
      ]
     },
     "metadata": {},
     "output_type": "display_data"
    },
    {
     "name": "stdout",
     "output_type": "stream",
     "text": [
      "\n"
     ]
    },
    {
     "data": {
      "text/html": [
       "<b>TOEFL Score</b>"
      ],
      "text/plain": [
       "<IPython.core.display.HTML object>"
      ]
     },
     "metadata": {},
     "output_type": "display_data"
    },
    {
     "data": {
      "text/html": [
       "Range of attribute TOEFL Score is from <b>92</b> to <b>120.</b>"
      ],
      "text/plain": [
       "<IPython.core.display.HTML object>"
      ]
     },
     "metadata": {},
     "output_type": "display_data"
    },
    {
     "name": "stdout",
     "output_type": "stream",
     "text": [
      "\n"
     ]
    },
    {
     "data": {
      "text/html": [
       "<b>University Rating</b>"
      ],
      "text/plain": [
       "<IPython.core.display.HTML object>"
      ]
     },
     "metadata": {},
     "output_type": "display_data"
    },
    {
     "data": {
      "text/html": [
       "Range of attribute University Rating is from <b>1</b> to <b>5.</b>"
      ],
      "text/plain": [
       "<IPython.core.display.HTML object>"
      ]
     },
     "metadata": {},
     "output_type": "display_data"
    },
    {
     "name": "stdout",
     "output_type": "stream",
     "text": [
      "\n"
     ]
    },
    {
     "data": {
      "text/html": [
       "<b>SOP</b>"
      ],
      "text/plain": [
       "<IPython.core.display.HTML object>"
      ]
     },
     "metadata": {},
     "output_type": "display_data"
    },
    {
     "data": {
      "text/html": [
       "Range of attribute SOP is from <b>1.0</b> to <b>5.0.</b>"
      ],
      "text/plain": [
       "<IPython.core.display.HTML object>"
      ]
     },
     "metadata": {},
     "output_type": "display_data"
    },
    {
     "name": "stdout",
     "output_type": "stream",
     "text": [
      "\n"
     ]
    },
    {
     "data": {
      "text/html": [
       "<b>LOR </b>"
      ],
      "text/plain": [
       "<IPython.core.display.HTML object>"
      ]
     },
     "metadata": {},
     "output_type": "display_data"
    },
    {
     "data": {
      "text/html": [
       "Range of attribute LOR  is from <b>1.0</b> to <b>5.0.</b>"
      ],
      "text/plain": [
       "<IPython.core.display.HTML object>"
      ]
     },
     "metadata": {},
     "output_type": "display_data"
    },
    {
     "name": "stdout",
     "output_type": "stream",
     "text": [
      "\n"
     ]
    },
    {
     "data": {
      "text/html": [
       "<b>CGPA</b>"
      ],
      "text/plain": [
       "<IPython.core.display.HTML object>"
      ]
     },
     "metadata": {},
     "output_type": "display_data"
    },
    {
     "data": {
      "text/html": [
       "Range of attribute CGPA is from <b>6.8</b> to <b>9.92.</b>"
      ],
      "text/plain": [
       "<IPython.core.display.HTML object>"
      ]
     },
     "metadata": {},
     "output_type": "display_data"
    },
    {
     "name": "stdout",
     "output_type": "stream",
     "text": [
      "\n"
     ]
    },
    {
     "data": {
      "text/html": [
       "<b>Research</b>"
      ],
      "text/plain": [
       "<IPython.core.display.HTML object>"
      ]
     },
     "metadata": {},
     "output_type": "display_data"
    },
    {
     "data": {
      "text/html": [
       "Range of attribute Research is from <b>0</b> to <b>1.</b>"
      ],
      "text/plain": [
       "<IPython.core.display.HTML object>"
      ]
     },
     "metadata": {},
     "output_type": "display_data"
    },
    {
     "name": "stdout",
     "output_type": "stream",
     "text": [
      "\n"
     ]
    },
    {
     "data": {
      "text/html": [
       "<b>Chance of Admit </b>"
      ],
      "text/plain": [
       "<IPython.core.display.HTML object>"
      ]
     },
     "metadata": {},
     "output_type": "display_data"
    },
    {
     "data": {
      "text/html": [
       "Range of attribute Chance of Admit  is from <b>0.34</b> to <b>0.97.</b>"
      ],
      "text/plain": [
       "<IPython.core.display.HTML object>"
      ]
     },
     "metadata": {},
     "output_type": "display_data"
    },
    {
     "name": "stdout",
     "output_type": "stream",
     "text": [
      "\n"
     ]
    }
   ],
   "source": [
    "for i in df:\n",
    "    display(HTML(f\"<b>{i}</b>\"))\n",
    "    display(HTML(f'Range of attribute {i} is from <b>{df[i].min()}</b> to <b>{df[i].max()}.</b>'))\n",
    "    print()"
   ]
  },
  {
   "cell_type": "markdown",
   "id": "04710150",
   "metadata": {},
   "source": [
    "### 4. Bivariate Analysis "
   ]
  },
  {
   "cell_type": "code",
   "execution_count": 13,
   "id": "a89f1f63",
   "metadata": {},
   "outputs": [
    {
     "data": {
      "image/png": "[encoded data removed]",
      "text/plain": [
       "<Figure size 720x720 with 7 Axes>"
      ]
     },
     "metadata": {
      "needs_background": "light"
     },
     "output_type": "display_data"
    }
   ],
   "source": [
    "features = ['GRE Score', 'TOEFL Score', 'University Rating', 'SOP', 'LOR ', 'CGPA', 'Research']\n",
    "target = 'Chance of Admit '\n",
    "\n",
    "# Create scatter plots using seaborn\n",
    "plt.figure(figsize=(10, 10))\n",
    "\n",
    "for idx, feature in enumerate(features):\n",
    "    plt.subplot(4, 2, idx + 1)\n",
    "    sns.scatterplot(x=df[feature], y=df[target])\n",
    "    plt.title(f'{feature} vs {target}')\n",
    "    \n",
    "plt.tight_layout()\n",
    "plt.show()"
   ]
  },
  {
   "cell_type": "markdown",
   "id": "efd4fc09",
   "metadata": {},
   "source": [
    "1. **GRE Score vs. Chance of Admit**:\n",
    "   - There is a positive correlation between GRE scores and the chance of admission. As GRE scores increase, the probability of admission also tends to increase.\n",
    "   - The data points indicate that higher GRE scores are generally associated with higher chances of admission, with most points above 320 showing an increased admit rate.\n",
    "\n",
    "2. **TOEFL Score vs. Chance of Admit**:\n",
    "   - Similar to GRE scores, TOEFL scores show a positive correlation with the chance of admission.\n",
    "   - Applicants with higher TOEFL scores (around 110 and above) are more likely to have a higher chance of admission, indicating that TOEFL performance could be a significant factor in admissions.\n",
    "\n",
    "3. **University Rating vs. Chance of Admit**:\n",
    "   - This variable seems to have a less clear linear relationship with the chance of admission, as the data points are somewhat spread out.\n",
    "   - However, higher university ratings (4 and 5) tend to show a slightly higher concentration of applicants with higher chances of admission.\n",
    "\n",
    "4. **SOP (Statement of Purpose) vs. Chance of Admit**:\n",
    "   - The SOP rating does not show a strong trend with the chance of admission, as data points are scattered throughout.\n",
    "   - However, there is a slight tendency for applicants with higher SOP ratings (4 or 5) to have a slightly higher chance of admission, but it is not as strong as GRE or TOEFL scores.\n",
    "\n",
    "5. **LOR (Letter of Recommendation) vs. Chance of Admit**:\n",
    "   - The LOR rating shows a similar pattern to the SOP rating, with a weak correlation with the chance of admission.\n",
    "   - Higher LOR ratings might slightly increase the chances of admission, but the effect is less pronounced.\n",
    "\n",
    "6. **CGPA vs. Chance of Admit**:\n",
    "   - CGPA has a strong positive correlation with the chance of admission, similar to GRE and TOEFL scores.\n",
    "   - Higher CGPA values (above 8.0) are strongly associated with higher chances of admission, making it an important predictor in the admission process.\n",
    "\n",
    "7. **Research vs. Chance of Admit**:\n",
    "   - This plot shows a binary relationship, where applicants who have research experience (1) tend to have a higher chance of admission compared to those without research experience (0).\n",
    "   - Having research experience appears to positively impact the chance of admission."
   ]
  },
  {
   "cell_type": "markdown",
   "id": "211df142",
   "metadata": {},
   "source": [
    "### 5. Multivariate analysis"
   ]
  },
  {
   "cell_type": "code",
   "execution_count": 14,
   "id": "ff49627b",
   "metadata": {},
   "outputs": [
    {
     "data": {
      "image/png": "[encoded data removed]",
      "text/plain": [
       "<Figure size 1152x720 with 2 Axes>"
      ]
     },
     "metadata": {
      "needs_background": "light"
     },
     "output_type": "display_data"
    }
   ],
   "source": [
    "# correlation chart using heatmap\n",
    "plt.figure(figsize = (16, 10))\n",
    "sns.heatmap(df.corr(), annot = True)\n",
    "plt.show()"
   ]
  },
  {
   "cell_type": "markdown",
   "id": "14638acc",
   "metadata": {},
   "source": [
    "- The correlation matrix confirms the inferences drawn from the scatterplot, showing that exam scores (CGPA, GRE, and TOEFL) have a strong positive correlation with the chance of admission. Moreover, these exam scores are also highly correlated with each other."
   ]
  },
  {
   "cell_type": "markdown",
   "id": "6232c52f",
   "metadata": {},
   "source": [
    "### 6. Prepare the data for modeling."
   ]
  },
  {
   "cell_type": "markdown",
   "id": "80a2c5e5",
   "metadata": {},
   "source": [
    "####  Splitting the dataset into training and testing sets."
   ]
  },
  {
   "cell_type": "code",
   "execution_count": 15,
   "id": "438687e0",
   "metadata": {},
   "outputs": [],
   "source": [
    "# Separate predictor and target variables\n",
    "X = df.drop(['Chance of Admit '], axis=1) \n",
    "y = df[['Chance of Admit ']]"
   ]
  },
  {
   "cell_type": "code",
   "execution_count": 16,
   "id": "b0ad3aa7",
   "metadata": {},
   "outputs": [
    {
     "name": "stdout",
     "output_type": "stream",
     "text": [
      "Shape of X_train: (400, 7)\n",
      "Shape of X_test: (100, 7)\n",
      "Shape of Y_train: (400, 1)\n",
      "Shape of Y_test: (100, 1)\n"
     ]
    }
   ],
   "source": [
    "# Split the data into training and test data\n",
    "X_train,X_test,Y_train,Y_test = train_test_split(X,y,test_size = 0.2,random_state=42, shuffle = True)\n",
    "\n",
    "print(f'Shape of X_train: {X_train.shape}')\n",
    "print(f'Shape of X_test: {X_test.shape}')\n",
    "print(f'Shape of Y_train: {Y_train.shape}')\n",
    "print(f'Shape of Y_test: {Y_test.shape}')"
   ]
  },
  {
   "cell_type": "code",
   "execution_count": 17,
   "id": "c160ed9e",
   "metadata": {},
   "outputs": [],
   "source": [
    "#Normalization/Standardization\n",
    "scaler = MinMaxScaler()"
   ]
  },
  {
   "cell_type": "code",
   "execution_count": 18,
   "id": "03197acf",
   "metadata": {},
   "outputs": [
    {
     "data": {
      "text/html": [
       "<div>\n",
       "<style scoped>\n",
       "    .dataframe tbody tr th:only-of-type {\n",
       "        vertical-align: middle;\n",
       "    }\n",
       "\n",
       "    .dataframe tbody tr th {\n",
       "        vertical-align: top;\n",
       "    }\n",
       "\n",
       "    .dataframe thead th {\n",
       "        text-align: right;\n",
       "    }\n",
       "</style>\n",
       "<table border=\"1\" class=\"dataframe\">\n",
       "  <thead>\n",
       "    <tr style=\"text-align: right;\">\n",
       "      <th></th>\n",
       "      <th>GRE Score</th>\n",
       "      <th>TOEFL Score</th>\n",
       "      <th>University Rating</th>\n",
       "      <th>SOP</th>\n",
       "      <th>LOR</th>\n",
       "      <th>CGPA</th>\n",
       "      <th>Research</th>\n",
       "    </tr>\n",
       "  </thead>\n",
       "  <tbody>\n",
       "    <tr>\n",
       "      <th>249</th>\n",
       "      <td>0.62</td>\n",
       "      <td>0.678571</td>\n",
       "      <td>0.50</td>\n",
       "      <td>0.625</td>\n",
       "      <td>0.714286</td>\n",
       "      <td>0.650641</td>\n",
       "      <td>1.0</td>\n",
       "    </tr>\n",
       "    <tr>\n",
       "      <th>433</th>\n",
       "      <td>0.52</td>\n",
       "      <td>0.678571</td>\n",
       "      <td>0.75</td>\n",
       "      <td>0.750</td>\n",
       "      <td>1.000000</td>\n",
       "      <td>0.557692</td>\n",
       "      <td>0.0</td>\n",
       "    </tr>\n",
       "    <tr>\n",
       "      <th>19</th>\n",
       "      <td>0.26</td>\n",
       "      <td>0.357143</td>\n",
       "      <td>0.50</td>\n",
       "      <td>0.625</td>\n",
       "      <td>0.428571</td>\n",
       "      <td>0.544872</td>\n",
       "      <td>0.0</td>\n",
       "    </tr>\n",
       "    <tr>\n",
       "      <th>322</th>\n",
       "      <td>0.48</td>\n",
       "      <td>0.535714</td>\n",
       "      <td>0.25</td>\n",
       "      <td>0.375</td>\n",
       "      <td>0.714286</td>\n",
       "      <td>0.471154</td>\n",
       "      <td>0.0</td>\n",
       "    </tr>\n",
       "    <tr>\n",
       "      <th>332</th>\n",
       "      <td>0.36</td>\n",
       "      <td>0.500000</td>\n",
       "      <td>0.50</td>\n",
       "      <td>0.625</td>\n",
       "      <td>0.285714</td>\n",
       "      <td>0.451923</td>\n",
       "      <td>1.0</td>\n",
       "    </tr>\n",
       "  </tbody>\n",
       "</table>\n",
       "</div>"
      ],
      "text/plain": [
       "     GRE Score  TOEFL Score  University Rating    SOP      LOR       CGPA  \\\n",
       "249       0.62     0.678571               0.50  0.625  0.714286  0.650641   \n",
       "433       0.52     0.678571               0.75  0.750  1.000000  0.557692   \n",
       "19        0.26     0.357143               0.50  0.625  0.428571  0.544872   \n",
       "322       0.48     0.535714               0.25  0.375  0.714286  0.471154   \n",
       "332       0.36     0.500000               0.50  0.625  0.285714  0.451923   \n",
       "\n",
       "     Research  \n",
       "249       1.0  \n",
       "433       0.0  \n",
       "19        0.0  \n",
       "322       0.0  \n",
       "332       1.0  "
      ]
     },
     "execution_count": 18,
     "metadata": {},
     "output_type": "execute_result"
    }
   ],
   "source": [
    "# Applying MinMaxScaler: Fitting and Transforming on Training Data\n",
    "X_train_scaled = pd.DataFrame(scaler.fit_transform(X_train),columns = X_train.columns, index=X_train.index )\n",
    "X_train_scaled.head()"
   ]
  },
  {
   "cell_type": "code",
   "execution_count": 19,
   "id": "195b41a3",
   "metadata": {},
   "outputs": [
    {
     "data": {
      "text/html": [
       "<div>\n",
       "<style scoped>\n",
       "    .dataframe tbody tr th:only-of-type {\n",
       "        vertical-align: middle;\n",
       "    }\n",
       "\n",
       "    .dataframe tbody tr th {\n",
       "        vertical-align: top;\n",
       "    }\n",
       "\n",
       "    .dataframe thead th {\n",
       "        text-align: right;\n",
       "    }\n",
       "</style>\n",
       "<table border=\"1\" class=\"dataframe\">\n",
       "  <thead>\n",
       "    <tr style=\"text-align: right;\">\n",
       "      <th></th>\n",
       "      <th>GRE Score</th>\n",
       "      <th>TOEFL Score</th>\n",
       "      <th>University Rating</th>\n",
       "      <th>SOP</th>\n",
       "      <th>LOR</th>\n",
       "      <th>CGPA</th>\n",
       "      <th>Research</th>\n",
       "    </tr>\n",
       "  </thead>\n",
       "  <tbody>\n",
       "    <tr>\n",
       "      <th>0</th>\n",
       "      <td>0.88</td>\n",
       "      <td>0.857143</td>\n",
       "      <td>0.75</td>\n",
       "      <td>0.750</td>\n",
       "      <td>0.571429</td>\n",
       "      <td>0.878205</td>\n",
       "      <td>1.0</td>\n",
       "    </tr>\n",
       "    <tr>\n",
       "      <th>1</th>\n",
       "      <td>0.48</td>\n",
       "      <td>0.571429</td>\n",
       "      <td>0.75</td>\n",
       "      <td>0.875</td>\n",
       "      <td>0.714286</td>\n",
       "      <td>0.717949</td>\n",
       "      <td>1.0</td>\n",
       "    </tr>\n",
       "    <tr>\n",
       "      <th>2</th>\n",
       "      <td>0.50</td>\n",
       "      <td>0.464286</td>\n",
       "      <td>0.25</td>\n",
       "      <td>0.250</td>\n",
       "      <td>0.285714</td>\n",
       "      <td>0.272436</td>\n",
       "      <td>0.0</td>\n",
       "    </tr>\n",
       "    <tr>\n",
       "      <th>3</th>\n",
       "      <td>0.44</td>\n",
       "      <td>0.607143</td>\n",
       "      <td>0.50</td>\n",
       "      <td>0.500</td>\n",
       "      <td>0.428571</td>\n",
       "      <td>0.605769</td>\n",
       "      <td>0.0</td>\n",
       "    </tr>\n",
       "    <tr>\n",
       "      <th>4</th>\n",
       "      <td>0.72</td>\n",
       "      <td>0.714286</td>\n",
       "      <td>0.50</td>\n",
       "      <td>0.625</td>\n",
       "      <td>0.428571</td>\n",
       "      <td>0.721154</td>\n",
       "      <td>1.0</td>\n",
       "    </tr>\n",
       "  </tbody>\n",
       "</table>\n",
       "</div>"
      ],
      "text/plain": [
       "   GRE Score  TOEFL Score  University Rating    SOP      LOR       CGPA  \\\n",
       "0       0.88     0.857143               0.75  0.750  0.571429  0.878205   \n",
       "1       0.48     0.571429               0.75  0.875  0.714286  0.717949   \n",
       "2       0.50     0.464286               0.25  0.250  0.285714  0.272436   \n",
       "3       0.44     0.607143               0.50  0.500  0.428571  0.605769   \n",
       "4       0.72     0.714286               0.50  0.625  0.428571  0.721154   \n",
       "\n",
       "   Research  \n",
       "0       1.0  \n",
       "1       1.0  \n",
       "2       0.0  \n",
       "3       0.0  \n",
       "4       1.0  "
      ]
     },
     "execution_count": 19,
     "metadata": {},
     "output_type": "execute_result"
    }
   ],
   "source": [
    "# Applying MinMaxScaler: Fitting and Transforming on Testing Data\n",
    "X_test_scaled = pd.DataFrame(scaler.transform(X_test), columns = X_test.columns)\n",
    "X_test_scaled.head()"
   ]
  },
  {
   "cell_type": "markdown",
   "id": "e8276444",
   "metadata": {},
   "source": [
    "### 7. Linear Regression Modeling"
   ]
  },
  {
   "cell_type": "markdown",
   "id": "963b26e2",
   "metadata": {},
   "source": [
    "#### 7.1) Building the Linear Regression Model with Scikit-Learn"
   ]
  },
  {
   "cell_type": "code",
   "execution_count": 20,
   "id": "15ae7995",
   "metadata": {},
   "outputs": [
    {
     "data": {
      "text/html": [
       "<style>#sk-container-id-1 {\n",
       "  /* Definition of color scheme common for light and dark mode */\n",
       "  --sklearn-color-text: black;\n",
       "  --sklearn-color-line: gray;\n",
       "  /* Definition of color scheme for unfitted estimators */\n",
       "  --sklearn-color-unfitted-level-0: #fff5e6;\n",
       "  --sklearn-color-unfitted-level-1: #f6e4d2;\n",
       "  --sklearn-color-unfitted-level-2: #ffe0b3;\n",
       "  --sklearn-color-unfitted-level-3: chocolate;\n",
       "  /* Definition of color scheme for fitted estimators */\n",
       "  --sklearn-color-fitted-level-0: #f0f8ff;\n",
       "  --sklearn-color-fitted-level-1: #d4ebff;\n",
       "  --sklearn-color-fitted-level-2: #b3dbfd;\n",
       "  --sklearn-color-fitted-level-3: cornflowerblue;\n",
       "\n",
       "  /* Specific color for light theme */\n",
       "  --sklearn-color-text-on-default-background: var(--sg-text-color, var(--theme-code-foreground, var(--jp-content-font-color1, black)));\n",
       "  --sklearn-color-background: var(--sg-background-color, var(--theme-background, var(--jp-layout-color0, white)));\n",
       "  --sklearn-color-border-box: var(--sg-text-color, var(--theme-code-foreground, var(--jp-content-font-color1, black)));\n",
       "  --sklearn-color-icon: #696969;\n",
       "\n",
       "  @media (prefers-color-scheme: dark) {\n",
       "    /* Redefinition of color scheme for dark theme */\n",
       "    --sklearn-color-text-on-default-background: var(--sg-text-color, var(--theme-code-foreground, var(--jp-content-font-color1, white)));\n",
       "    --sklearn-color-background: var(--sg-background-color, var(--theme-background, var(--jp-layout-color0, #111)));\n",
       "    --sklearn-color-border-box: var(--sg-text-color, var(--theme-code-foreground, var(--jp-content-font-color1, white)));\n",
       "    --sklearn-color-icon: #878787;\n",
       "  }\n",
       "}\n",
       "\n",
       "#sk-container-id-1 {\n",
       "  color: var(--sklearn-color-text);\n",
       "}\n",
       "\n",
       "#sk-container-id-1 pre {\n",
       "  padding: 0;\n",
       "}\n",
       "\n",
       "#sk-container-id-1 input.sk-hidden--visually {\n",
       "  border: 0;\n",
       "  clip: rect(1px 1px 1px 1px);\n",
       "  clip: rect(1px, 1px, 1px, 1px);\n",
       "  height: 1px;\n",
       "  margin: -1px;\n",
       "  overflow: hidden;\n",
       "  padding: 0;\n",
       "  position: absolute;\n",
       "  width: 1px;\n",
       "}\n",
       "\n",
       "#sk-container-id-1 div.sk-dashed-wrapped {\n",
       "  border: 1px dashed var(--sklearn-color-line);\n",
       "  margin: 0 0.4em 0.5em 0.4em;\n",
       "  box-sizing: border-box;\n",
       "  padding-bottom: 0.4em;\n",
       "  background-color: var(--sklearn-color-background);\n",
       "}\n",
       "\n",
       "#sk-container-id-1 div.sk-container {\n",
       "  /* jupyter's `normalize.less` sets `[hidden] { display: none; }`\n",
       "     but bootstrap.min.css set `[hidden] { display: none !important; }`\n",
       "     so we also need the `!important` here to be able to override the\n",
       "     default hidden behavior on the sphinx rendered scikit-learn.org.\n",
       "     See: https://github.com/scikit-learn/scikit-learn/issues/21755 */\n",
       "  display: inline-block !important;\n",
       "  position: relative;\n",
       "}\n",
       "\n",
       "#sk-container-id-1 div.sk-text-repr-fallback {\n",
       "  display: none;\n",
       "}\n",
       "\n",
       "div.sk-parallel-item,\n",
       "div.sk-serial,\n",
       "div.sk-item {\n",
       "  /* draw centered vertical line to link estimators */\n",
       "  background-image: linear-gradient(var(--sklearn-color-text-on-default-background), var(--sklearn-color-text-on-default-background));\n",
       "  background-size: 2px 100%;\n",
       "  background-repeat: no-repeat;\n",
       "  background-position: center center;\n",
       "}\n",
       "\n",
       "/* Parallel-specific style estimator block */\n",
       "\n",
       "#sk-container-id-1 div.sk-parallel-item::after {\n",
       "  content: \"\";\n",
       "  width: 100%;\n",
       "  border-bottom: 2px solid var(--sklearn-color-text-on-default-background);\n",
       "  flex-grow: 1;\n",
       "}\n",
       "\n",
       "#sk-container-id-1 div.sk-parallel {\n",
       "  display: flex;\n",
       "  align-items: stretch;\n",
       "  justify-content: center;\n",
       "  background-color: var(--sklearn-color-background);\n",
       "  position: relative;\n",
       "}\n",
       "\n",
       "#sk-container-id-1 div.sk-parallel-item {\n",
       "  display: flex;\n",
       "  flex-direction: column;\n",
       "}\n",
       "\n",
       "#sk-container-id-1 div.sk-parallel-item:first-child::after {\n",
       "  align-self: flex-end;\n",
       "  width: 50%;\n",
       "}\n",
       "\n",
       "#sk-container-id-1 div.sk-parallel-item:last-child::after {\n",
       "  align-self: flex-start;\n",
       "  width: 50%;\n",
       "}\n",
       "\n",
       "#sk-container-id-1 div.sk-parallel-item:only-child::after {\n",
       "  width: 0;\n",
       "}\n",
       "\n",
       "/* Serial-specific style estimator block */\n",
       "\n",
       "#sk-container-id-1 div.sk-serial {\n",
       "  display: flex;\n",
       "  flex-direction: column;\n",
       "  align-items: center;\n",
       "  background-color: var(--sklearn-color-background);\n",
       "  padding-right: 1em;\n",
       "  padding-left: 1em;\n",
       "}\n",
       "\n",
       "\n",
       "/* Toggleable style: style used for estimator/Pipeline/ColumnTransformer box that is\n",
       "clickable and can be expanded/collapsed.\n",
       "- Pipeline and ColumnTransformer use this feature and define the default style\n",
       "- Estimators will overwrite some part of the style using the `sk-estimator` class\n",
       "*/\n",
       "\n",
       "/* Pipeline and ColumnTransformer style (default) */\n",
       "\n",
       "#sk-container-id-1 div.sk-toggleable {\n",
       "  /* Default theme specific background. It is overwritten whether we have a\n",
       "  specific estimator or a Pipeline/ColumnTransformer */\n",
       "  background-color: var(--sklearn-color-background);\n",
       "}\n",
       "\n",
       "/* Toggleable label */\n",
       "#sk-container-id-1 label.sk-toggleable__label {\n",
       "  cursor: pointer;\n",
       "  display: block;\n",
       "  width: 100%;\n",
       "  margin-bottom: 0;\n",
       "  padding: 0.5em;\n",
       "  box-sizing: border-box;\n",
       "  text-align: center;\n",
       "}\n",
       "\n",
       "#sk-container-id-1 label.sk-toggleable__label-arrow:before {\n",
       "  /* Arrow on the left of the label */\n",
       "  content: \"▸\";\n",
       "  float: left;\n",
       "  margin-right: 0.25em;\n",
       "  color: var(--sklearn-color-icon);\n",
       "}\n",
       "\n",
       "#sk-container-id-1 label.sk-toggleable__label-arrow:hover:before {\n",
       "  color: var(--sklearn-color-text);\n",
       "}\n",
       "\n",
       "/* Toggleable content - dropdown */\n",
       "\n",
       "#sk-container-id-1 div.sk-toggleable__content {\n",
       "  max-height: 0;\n",
       "  max-width: 0;\n",
       "  overflow: hidden;\n",
       "  text-align: left;\n",
       "  /* unfitted */\n",
       "  background-color: var(--sklearn-color-unfitted-level-0);\n",
       "}\n",
       "\n",
       "#sk-container-id-1 div.sk-toggleable__content.fitted {\n",
       "  /* fitted */\n",
       "  background-color: var(--sklearn-color-fitted-level-0);\n",
       "}\n",
       "\n",
       "#sk-container-id-1 div.sk-toggleable__content pre {\n",
       "  margin: 0.2em;\n",
       "  border-radius: 0.25em;\n",
       "  color: var(--sklearn-color-text);\n",
       "  /* unfitted */\n",
       "  background-color: var(--sklearn-color-unfitted-level-0);\n",
       "}\n",
       "\n",
       "#sk-container-id-1 div.sk-toggleable__content.fitted pre {\n",
       "  /* unfitted */\n",
       "  background-color: var(--sklearn-color-fitted-level-0);\n",
       "}\n",
       "\n",
       "#sk-container-id-1 input.sk-toggleable__control:checked~div.sk-toggleable__content {\n",
       "  /* Expand drop-down */\n",
       "  max-height: 200px;\n",
       "  max-width: 100%;\n",
       "  overflow: auto;\n",
       "}\n",
       "\n",
       "#sk-container-id-1 input.sk-toggleable__control:checked~label.sk-toggleable__label-arrow:before {\n",
       "  content: \"▾\";\n",
       "}\n",
       "\n",
       "/* Pipeline/ColumnTransformer-specific style */\n",
       "\n",
       "#sk-container-id-1 div.sk-label input.sk-toggleable__control:checked~label.sk-toggleable__label {\n",
       "  color: var(--sklearn-color-text);\n",
       "  background-color: var(--sklearn-color-unfitted-level-2);\n",
       "}\n",
       "\n",
       "#sk-container-id-1 div.sk-label.fitted input.sk-toggleable__control:checked~label.sk-toggleable__label {\n",
       "  background-color: var(--sklearn-color-fitted-level-2);\n",
       "}\n",
       "\n",
       "/* Estimator-specific style */\n",
       "\n",
       "/* Colorize estimator box */\n",
       "#sk-container-id-1 div.sk-estimator input.sk-toggleable__control:checked~label.sk-toggleable__label {\n",
       "  /* unfitted */\n",
       "  background-color: var(--sklearn-color-unfitted-level-2);\n",
       "}\n",
       "\n",
       "#sk-container-id-1 div.sk-estimator.fitted input.sk-toggleable__control:checked~label.sk-toggleable__label {\n",
       "  /* fitted */\n",
       "  background-color: var(--sklearn-color-fitted-level-2);\n",
       "}\n",
       "\n",
       "#sk-container-id-1 div.sk-label label.sk-toggleable__label,\n",
       "#sk-container-id-1 div.sk-label label {\n",
       "  /* The background is the default theme color */\n",
       "  color: var(--sklearn-color-text-on-default-background);\n",
       "}\n",
       "\n",
       "/* On hover, darken the color of the background */\n",
       "#sk-container-id-1 div.sk-label:hover label.sk-toggleable__label {\n",
       "  color: var(--sklearn-color-text);\n",
       "  background-color: var(--sklearn-color-unfitted-level-2);\n",
       "}\n",
       "\n",
       "/* Label box, darken color on hover, fitted */\n",
       "#sk-container-id-1 div.sk-label.fitted:hover label.sk-toggleable__label.fitted {\n",
       "  color: var(--sklearn-color-text);\n",
       "  background-color: var(--sklearn-color-fitted-level-2);\n",
       "}\n",
       "\n",
       "/* Estimator label */\n",
       "\n",
       "#sk-container-id-1 div.sk-label label {\n",
       "  font-family: monospace;\n",
       "  font-weight: bold;\n",
       "  display: inline-block;\n",
       "  line-height: 1.2em;\n",
       "}\n",
       "\n",
       "#sk-container-id-1 div.sk-label-container {\n",
       "  text-align: center;\n",
       "}\n",
       "\n",
       "/* Estimator-specific */\n",
       "#sk-container-id-1 div.sk-estimator {\n",
       "  font-family: monospace;\n",
       "  border: 1px dotted var(--sklearn-color-border-box);\n",
       "  border-radius: 0.25em;\n",
       "  box-sizing: border-box;\n",
       "  margin-bottom: 0.5em;\n",
       "  /* unfitted */\n",
       "  background-color: var(--sklearn-color-unfitted-level-0);\n",
       "}\n",
       "\n",
       "#sk-container-id-1 div.sk-estimator.fitted {\n",
       "  /* fitted */\n",
       "  background-color: var(--sklearn-color-fitted-level-0);\n",
       "}\n",
       "\n",
       "/* on hover */\n",
       "#sk-container-id-1 div.sk-estimator:hover {\n",
       "  /* unfitted */\n",
       "  background-color: var(--sklearn-color-unfitted-level-2);\n",
       "}\n",
       "\n",
       "#sk-container-id-1 div.sk-estimator.fitted:hover {\n",
       "  /* fitted */\n",
       "  background-color: var(--sklearn-color-fitted-level-2);\n",
       "}\n",
       "\n",
       "/* Specification for estimator info (e.g. \"i\" and \"?\") */\n",
       "\n",
       "/* Common style for \"i\" and \"?\" */\n",
       "\n",
       ".sk-estimator-doc-link,\n",
       "a:link.sk-estimator-doc-link,\n",
       "a:visited.sk-estimator-doc-link {\n",
       "  float: right;\n",
       "  font-size: smaller;\n",
       "  line-height: 1em;\n",
       "  font-family: monospace;\n",
       "  background-color: var(--sklearn-color-background);\n",
       "  border-radius: 1em;\n",
       "  height: 1em;\n",
       "  width: 1em;\n",
       "  text-decoration: none !important;\n",
       "  margin-left: 1ex;\n",
       "  /* unfitted */\n",
       "  border: var(--sklearn-color-unfitted-level-1) 1pt solid;\n",
       "  color: var(--sklearn-color-unfitted-level-1);\n",
       "}\n",
       "\n",
       ".sk-estimator-doc-link.fitted,\n",
       "a:link.sk-estimator-doc-link.fitted,\n",
       "a:visited.sk-estimator-doc-link.fitted {\n",
       "  /* fitted */\n",
       "  border: var(--sklearn-color-fitted-level-1) 1pt solid;\n",
       "  color: var(--sklearn-color-fitted-level-1);\n",
       "}\n",
       "\n",
       "/* On hover */\n",
       "div.sk-estimator:hover .sk-estimator-doc-link:hover,\n",
       ".sk-estimator-doc-link:hover,\n",
       "div.sk-label-container:hover .sk-estimator-doc-link:hover,\n",
       ".sk-estimator-doc-link:hover {\n",
       "  /* unfitted */\n",
       "  background-color: var(--sklearn-color-unfitted-level-3);\n",
       "  color: var(--sklearn-color-background);\n",
       "  text-decoration: none;\n",
       "}\n",
       "\n",
       "div.sk-estimator.fitted:hover .sk-estimator-doc-link.fitted:hover,\n",
       ".sk-estimator-doc-link.fitted:hover,\n",
       "div.sk-label-container:hover .sk-estimator-doc-link.fitted:hover,\n",
       ".sk-estimator-doc-link.fitted:hover {\n",
       "  /* fitted */\n",
       "  background-color: var(--sklearn-color-fitted-level-3);\n",
       "  color: var(--sklearn-color-background);\n",
       "  text-decoration: none;\n",
       "}\n",
       "\n",
       "/* Span, style for the box shown on hovering the info icon */\n",
       ".sk-estimator-doc-link span {\n",
       "  display: none;\n",
       "  z-index: 9999;\n",
       "  position: relative;\n",
       "  font-weight: normal;\n",
       "  right: .2ex;\n",
       "  padding: .5ex;\n",
       "  margin: .5ex;\n",
       "  width: min-content;\n",
       "  min-width: 20ex;\n",
       "  max-width: 50ex;\n",
       "  color: var(--sklearn-color-text);\n",
       "  box-shadow: 2pt 2pt 4pt #999;\n",
       "  /* unfitted */\n",
       "  background: var(--sklearn-color-unfitted-level-0);\n",
       "  border: .5pt solid var(--sklearn-color-unfitted-level-3);\n",
       "}\n",
       "\n",
       ".sk-estimator-doc-link.fitted span {\n",
       "  /* fitted */\n",
       "  background: var(--sklearn-color-fitted-level-0);\n",
       "  border: var(--sklearn-color-fitted-level-3);\n",
       "}\n",
       "\n",
       ".sk-estimator-doc-link:hover span {\n",
       "  display: block;\n",
       "}\n",
       "\n",
       "/* \"?\"-specific style due to the `<a>` HTML tag */\n",
       "\n",
       "#sk-container-id-1 a.estimator_doc_link {\n",
       "  float: right;\n",
       "  font-size: 1rem;\n",
       "  line-height: 1em;\n",
       "  font-family: monospace;\n",
       "  background-color: var(--sklearn-color-background);\n",
       "  border-radius: 1rem;\n",
       "  height: 1rem;\n",
       "  width: 1rem;\n",
       "  text-decoration: none;\n",
       "  /* unfitted */\n",
       "  color: var(--sklearn-color-unfitted-level-1);\n",
       "  border: var(--sklearn-color-unfitted-level-1) 1pt solid;\n",
       "}\n",
       "\n",
       "#sk-container-id-1 a.estimator_doc_link.fitted {\n",
       "  /* fitted */\n",
       "  border: var(--sklearn-color-fitted-level-1) 1pt solid;\n",
       "  color: var(--sklearn-color-fitted-level-1);\n",
       "}\n",
       "\n",
       "/* On hover */\n",
       "#sk-container-id-1 a.estimator_doc_link:hover {\n",
       "  /* unfitted */\n",
       "  background-color: var(--sklearn-color-unfitted-level-3);\n",
       "  color: var(--sklearn-color-background);\n",
       "  text-decoration: none;\n",
       "}\n",
       "\n",
       "#sk-container-id-1 a.estimator_doc_link.fitted:hover {\n",
       "  /* fitted */\n",
       "  background-color: var(--sklearn-color-fitted-level-3);\n",
       "}\n",
       "</style><div id=\"sk-container-id-1\" class=\"sk-top-container\"><div class=\"sk-text-repr-fallback\"><pre>LinearRegression()</pre><b>In a Jupyter environment, please rerun this cell to show the HTML representation or trust the notebook. <br />On GitHub, the HTML representation is unable to render, please try loading this page with nbviewer.org.</b></div><div class=\"sk-container\" hidden><div class=\"sk-item\"><div class=\"sk-estimator fitted sk-toggleable\"><input class=\"sk-toggleable__control sk-hidden--visually\" id=\"sk-estimator-id-1\" type=\"checkbox\" checked><label for=\"sk-estimator-id-1\" class=\"sk-toggleable__label fitted sk-toggleable__label-arrow fitted\">&nbsp;&nbsp;LinearRegression<a class=\"sk-estimator-doc-link fitted\" rel=\"noreferrer\" target=\"_blank\" href=\"https://scikit-learn.org/1.5/modules/generated/sklearn.linear_model.LinearRegression.html\">?<span>Documentation for LinearRegression</span></a><span class=\"sk-estimator-doc-link fitted\">i<span>Fitted</span></span></label><div class=\"sk-toggleable__content fitted\"><pre>LinearRegression()</pre></div> </div></div></div></div>"
      ],
      "text/plain": [
       "LinearRegression()"
      ]
     },
     "execution_count": 20,
     "metadata": {},
     "output_type": "execute_result"
    }
   ],
   "source": [
    "# Fitting the model to the training data\n",
    "lr_model = LinearRegression()\n",
    "lr_model.fit(X_train_scaled,Y_train)"
   ]
  },
  {
   "cell_type": "code",
   "execution_count": 21,
   "id": "14bfe5b6",
   "metadata": {},
   "outputs": [],
   "source": [
    "# Predicting values for the training and test data\n",
    "y_pred_train = lr_model.predict(X_train_scaled)\n",
    "y_pred_test = lr_model.predict(X_test_scaled)"
   ]
  },
  {
   "cell_type": "code",
   "execution_count": 22,
   "id": "82b1a843",
   "metadata": {},
   "outputs": [],
   "source": [
    "def model_evaluation(y_actual, y_forecast, model):\n",
    "    n = len(y_actual)  # Number of samples\n",
    "    if len(model.coef_.shape)==1:\n",
    "        p = len(model.coef_)\n",
    "    else:\n",
    "        p = len(model.coef_[0])\n",
    "    \n",
    "    # Calculate metrics\n",
    "    MAE = np.round(mean_absolute_error(y_true=y_actual, y_pred=y_forecast), 2)\n",
    "    MSE = np.round(mean_squared_error(y_true= y_actual, y_pred=y_forecast, squared=True), 4)\n",
    "    RMSE = np.round(mean_squared_error(y_true=y_actual, y_pred=y_forecast, squared=False), 2)\n",
    "    R2 = np.round(r2_score(y_true=y_actual, y_pred=y_forecast), 2)\n",
    "    adj_r2 = np.round(1 - ((1 - R2) * (n - 1) / (n - p - 1)), 2)\n",
    "    \n",
    "    return {\n",
    "        \"MAE\": MAE,\n",
    "        \"MSE\": MSE,\n",
    "        \"RMSE\": RMSE,\n",
    "        \"R² Score\": R2,\n",
    "        \"Adjusted R² Score\": adj_r2\n",
    "    }\n"
   ]
  },
  {
   "cell_type": "code",
   "execution_count": 23,
   "id": "81bc143f",
   "metadata": {},
   "outputs": [
    {
     "data": {
      "text/plain": [
       "{'MAE': 0.04,\n",
       " 'MSE': 0.0035,\n",
       " 'RMSE': 0.06,\n",
       " 'R² Score': 0.82,\n",
       " 'Adjusted R² Score': 0.82}"
      ]
     },
     "execution_count": 23,
     "metadata": {},
     "output_type": "execute_result"
    }
   ],
   "source": [
    "# Metrics for training data\n",
    "model_evaluation(Y_train.values, y_pred_train, lr_model)"
   ]
  },
  {
   "cell_type": "code",
   "execution_count": 24,
   "id": "81dd39de",
   "metadata": {},
   "outputs": [
    {
     "data": {
      "text/plain": [
       "{'MAE': 0.04,\n",
       " 'MSE': 0.0037,\n",
       " 'RMSE': 0.06,\n",
       " 'R² Score': 0.82,\n",
       " 'Adjusted R² Score': 0.81}"
      ]
     },
     "execution_count": 24,
     "metadata": {},
     "output_type": "execute_result"
    }
   ],
   "source": [
    "# Metrics for testing data\n",
    "model_evaluation(Y_test.values, y_pred_test, lr_model)"
   ]
  },
  {
   "cell_type": "code",
   "execution_count": 25,
   "id": "862d5020",
   "metadata": {},
   "outputs": [
    {
     "name": "stdout",
     "output_type": "stream",
     "text": [
      "Weight of GRE Score: 0.12\n",
      "Weight of TOEFL Score: 0.08\n",
      "Weight of University Rating: 0.01\n",
      "Weight of SOP: 0.01\n",
      "Weight of LOR : 0.06\n",
      "Weight of CGPA: 0.35\n",
      "Weight of Research: 0.02\n"
     ]
    }
   ],
   "source": [
    "# Displaying model coefficients(weights)\n",
    "for feature, weight in zip(X_train.columns, lr_model.coef_[0]):\n",
    "    print(f\"Weight of {feature}: {np.round(weight, 2)}\")\n"
   ]
  },
  {
   "cell_type": "code",
   "execution_count": 26,
   "id": "fca4a6a4",
   "metadata": {},
   "outputs": [
    {
     "data": {
      "text/plain": [
       "array([0.35558405])"
      ]
     },
     "execution_count": 26,
     "metadata": {},
     "output_type": "execute_result"
    }
   ],
   "source": [
    "# Bias Term of the Model\n",
    "\n",
    "lr_model.intercept_"
   ]
  },
  {
   "cell_type": "markdown",
   "id": "cde164ef",
   "metadata": {},
   "source": [
    "### Insights:\n",
    "\n",
    "- **Error Metrics:** The MAE, MSE, and RMSE values for both the training and testing datasets are very close, indicating that the model generalizes well and is not overfitting the training data.\n",
    "\n",
    "- **R² and Adjusted R² Scores:** Both scores are high (around 0.82 for training and 0.81 for testing), suggesting that the model explains a significant portion of the variance in the target variable. The slight decrease in the R² and Adjusted R² scores from training to testing indicates a minor drop in performance, which is typical in regression models.\n",
    "\n",
    "- Overall, the **Linear Regression model** shows strong predictive capabilities, effectively balancing bias and variance. The metrics demonstrate that the model is robust and reliable for making predictions on new, unseen data, making it suitable for deployment in practical applications."
   ]
  },
  {
   "cell_type": "markdown",
   "id": "eaa37f82",
   "metadata": {},
   "source": [
    "#### 7.2) Building the Linear Regression Model with Statsmodels"
   ]
  },
  {
   "cell_type": "code",
   "execution_count": 27,
   "id": "277b6e0f",
   "metadata": {},
   "outputs": [
    {
     "name": "stdout",
     "output_type": "stream",
     "text": [
      "                            OLS Regression Results                            \n",
      "==============================================================================\n",
      "Dep. Variable:       Chance of Admit    R-squared:                       0.821\n",
      "Model:                            OLS   Adj. R-squared:                  0.818\n",
      "Method:                 Least Squares   F-statistic:                     257.0\n",
      "Date:                Thu, 14 Nov 2024   Prob (F-statistic):          3.41e-142\n",
      "Time:                        12:47:26   Log-Likelihood:                 561.91\n",
      "No. Observations:                 400   AIC:                            -1108.\n",
      "Df Residuals:                     392   BIC:                            -1076.\n",
      "Df Model:                           7                                         \n",
      "Covariance Type:            nonrobust                                         \n",
      "=====================================================================================\n",
      "                        coef    std err          t      P>|t|      [0.025      0.975]\n",
      "-------------------------------------------------------------------------------------\n",
      "const                 0.3556      0.010     36.366      0.000       0.336       0.375\n",
      "GRE Score             0.1217      0.029      4.196      0.000       0.065       0.179\n",
      "TOEFL Score           0.0839      0.026      3.174      0.002       0.032       0.136\n",
      "University Rating     0.0103      0.017      0.611      0.541      -0.023       0.043\n",
      "SOP                   0.0073      0.020      0.357      0.721      -0.033       0.047\n",
      "LOR                   0.0603      0.016      3.761      0.000       0.029       0.092\n",
      "CGPA                  0.3511      0.034     10.444      0.000       0.285       0.417\n",
      "Research              0.0240      0.007      3.231      0.001       0.009       0.039\n",
      "==============================================================================\n",
      "Omnibus:                       86.232   Durbin-Watson:                   2.050\n",
      "Prob(Omnibus):                  0.000   Jarque-Bera (JB):              190.099\n",
      "Skew:                          -1.107   Prob(JB):                     5.25e-42\n",
      "Kurtosis:                       5.551   Cond. No.                         23.4\n",
      "==============================================================================\n",
      "\n",
      "Notes:\n",
      "[1] Standard Errors assume that the covariance matrix of the errors is correctly specified.\n"
     ]
    }
   ],
   "source": [
    "import statsmodels.api as sm\n",
    "X_train_const = sm.add_constant(X_train_scaled)\n",
    "# Fit the model\n",
    "model_results = sm.OLS(Y_train, X_train_const).fit()\n",
    "print(model_results.summary())"
   ]
  },
  {
   "cell_type": "markdown",
   "id": "8d91d390",
   "metadata": {},
   "source": [
    "### Considering a significance value of 0.05, dropping columns with p-values greater than 0.05.\n",
    "\n",
    "- Variables like **GRE Score, TOEFL Score, CGPA, LOR and Research** have p-values less than 0.05, indicating they are statistically significant predictors of the chance of admission.\n",
    "\n",
    "- **University Rating and SOP** have p-values > 0.05, indicating they are not statistically significant at the 0.05 level. Therefore, we can drop both variables and re-build the model."
   ]
  },
  {
   "cell_type": "code",
   "execution_count": 28,
   "id": "d0032ea9",
   "metadata": {},
   "outputs": [],
   "source": [
    "# Drop the columns from X_train_scaled and X_test_scaled\n",
    "X_train_scaled.drop(['University Rating', 'SOP'], axis=1, inplace=True)\n",
    "X_test_scaled.drop(['University Rating', 'SOP'], axis=1, inplace=True)\n"
   ]
  },
  {
   "cell_type": "markdown",
   "id": "1d3d6370",
   "metadata": {},
   "source": [
    "#### 7.3) Rebuilding the Linear Regression Model with Statsmodels"
   ]
  },
  {
   "cell_type": "code",
   "execution_count": 29,
   "id": "25be535b",
   "metadata": {},
   "outputs": [
    {
     "name": "stdout",
     "output_type": "stream",
     "text": [
      "                            OLS Regression Results                            \n",
      "==============================================================================\n",
      "Dep. Variable:       Chance of Admit    R-squared:                       0.821\n",
      "Model:                            OLS   Adj. R-squared:                  0.818\n",
      "Method:                 Least Squares   F-statistic:                     360.8\n",
      "Date:                Thu, 14 Nov 2024   Prob (F-statistic):          1.36e-144\n",
      "Time:                        12:47:26   Log-Likelihood:                 561.54\n",
      "No. Observations:                 400   AIC:                            -1111.\n",
      "Df Residuals:                     394   BIC:                            -1087.\n",
      "Df Model:                           5                                         \n",
      "Covariance Type:            nonrobust                                         \n",
      "===============================================================================\n",
      "                  coef    std err          t      P>|t|      [0.025      0.975]\n",
      "-------------------------------------------------------------------------------\n",
      "const           0.3550      0.010     37.131      0.000       0.336       0.374\n",
      "GRE Score       0.1227      0.029      4.245      0.000       0.066       0.179\n",
      "TOEFL Score     0.0879      0.026      3.391      0.001       0.037       0.139\n",
      "LOR             0.0654      0.015      4.465      0.000       0.037       0.094\n",
      "CGPA            0.3588      0.032     11.147      0.000       0.296       0.422\n",
      "Research        0.0246      0.007      3.328      0.001       0.010       0.039\n",
      "==============================================================================\n",
      "Omnibus:                       84.831   Durbin-Watson:                   2.053\n",
      "Prob(Omnibus):                  0.000   Jarque-Bera (JB):              185.096\n",
      "Skew:                          -1.094   Prob(JB):                     6.41e-41\n",
      "Kurtosis:                       5.514   Cond. No.                         20.4\n",
      "==============================================================================\n",
      "\n",
      "Notes:\n",
      "[1] Standard Errors assume that the covariance matrix of the errors is correctly specified.\n"
     ]
    }
   ],
   "source": [
    "# rebuilding the Linear regression model from statsmodels.api\n",
    "\n",
    "X_train_const = sm.add_constant(X_train_scaled)\n",
    "# Fit the model\n",
    "model_results = sm.OLS(Y_train, X_train_const).fit()\n",
    "print(model_results.summary())"
   ]
  },
  {
   "cell_type": "markdown",
   "id": "e06b7451",
   "metadata": {},
   "source": [
    "#### 7.4) Rebuilding the Linear regression model using sk-learn library"
   ]
  },
  {
   "cell_type": "code",
   "execution_count": 30,
   "id": "33a5936e",
   "metadata": {},
   "outputs": [],
   "source": [
    "# Fitting the model to the training data\n",
    "\n",
    "lr_model.fit(X_train_scaled,Y_train)\n",
    "\n",
    "# Predicting values for the training and test data\n",
    "Y_pred_train = lr_model.predict(X_train_scaled)\n",
    "Y_pred_test = lr_model.predict(X_test_scaled)"
   ]
  },
  {
   "cell_type": "code",
   "execution_count": 31,
   "id": "89877a72",
   "metadata": {},
   "outputs": [
    {
     "data": {
      "text/plain": [
       "{'MAE': 0.04,\n",
       " 'MSE': 0.0035,\n",
       " 'RMSE': 0.06,\n",
       " 'R² Score': 0.82,\n",
       " 'Adjusted R² Score': 0.82}"
      ]
     },
     "execution_count": 31,
     "metadata": {},
     "output_type": "execute_result"
    }
   ],
   "source": [
    "# Metrics for training data\n",
    "model_evaluation(Y_train.values, Y_pred_train, lr_model)\n"
   ]
  },
  {
   "cell_type": "code",
   "execution_count": 32,
   "id": "8ff94b6b",
   "metadata": {},
   "outputs": [
    {
     "data": {
      "text/plain": [
       "{'MAE': 0.04,\n",
       " 'MSE': 0.0038,\n",
       " 'RMSE': 0.06,\n",
       " 'R² Score': 0.82,\n",
       " 'Adjusted R² Score': 0.81}"
      ]
     },
     "execution_count": 32,
     "metadata": {},
     "output_type": "execute_result"
    }
   ],
   "source": [
    "# Metrics for testing data\n",
    "model_evaluation(Y_test.values, Y_pred_test, lr_model)"
   ]
  },
  {
   "cell_type": "code",
   "execution_count": 33,
   "id": "b171228f",
   "metadata": {},
   "outputs": [
    {
     "name": "stdout",
     "output_type": "stream",
     "text": [
      "Weight of GRE Score: 0.12\n",
      "Weight of TOEFL Score: 0.09\n",
      "Weight of University Rating: 0.07\n",
      "Weight of SOP: 0.36\n",
      "Weight of LOR : 0.02\n"
     ]
    }
   ],
   "source": [
    "# Displaying model coefficients(weights)\n",
    "for feature, weight in zip(X_train.columns, lr_model.coef_[0]):\n",
    "    print(f\"Weight of {feature}: {np.round(weight, 2)}\")\n"
   ]
  },
  {
   "cell_type": "code",
   "execution_count": 34,
   "id": "4a702cd8",
   "metadata": {},
   "outputs": [
    {
     "data": {
      "text/plain": [
       "array([0.35498373])"
      ]
     },
     "execution_count": 34,
     "metadata": {},
     "output_type": "execute_result"
    }
   ],
   "source": [
    "# Bias Term of the Model\n",
    "\n",
    "lr_model.intercept_"
   ]
  },
  {
   "cell_type": "markdown",
   "id": "d7a202a7",
   "metadata": {},
   "source": [
    "**Insights**\n",
    "- **No Significant Performance Loss:** The model's evaluation metrics, such as Mean Absolute Error (MAE), Mean Squared Error (MSE), Root Mean Squared Error (RMSE), R² Score, and Adjusted R² Score, remained virtually unchanged after dropping these features. This suggests that University Rating and SOP did not contribute much predictive power to the model.\n",
    "- **Adjusted R² Score Consistency:** The stability of the Adjusted R² Score implies that dropping University Rating and SOP didn’t negatively affect the model’s explanatory power. This score adjusts for the number of predictors in the model, reinforcing that these features were likely noise rather than true predictors.\n",
    "- Overall, removing University Rating and SOP seems to have improved model efficiency without sacrificing performance, resulting in a more robust and interpretable linear regression model for this case study."
   ]
  },
  {
   "cell_type": "markdown",
   "id": "5a639912",
   "metadata": {},
   "source": [
    "### 8. Test the assumptions of linear regression."
   ]
  },
  {
   "cell_type": "markdown",
   "id": "dbbee248",
   "metadata": {},
   "source": [
    "**8.1) Multicollinearity:**\n",
    "  - Multicollinearity occurs when two or more independent variables in a regression model are highly correlated, meaning they provide similar information.\n",
    "  - VIF(Variance Inflation Factor) is a measure used to detect multicollinearity. It quantifies how much the variance of a regression coefficient(weights) is inflated due to the correlation with other independent variables."
   ]
  },
  {
   "cell_type": "code",
   "execution_count": 35,
   "id": "d4e77770",
   "metadata": {},
   "outputs": [
    {
     "name": "stdout",
     "output_type": "stream",
     "text": [
      "      Variable        VIF\n",
      "0    GRE Score  31.084729\n",
      "1  TOEFL Score  25.856292\n",
      "2         LOR    9.190136\n",
      "3         CGPA  35.922075\n",
      "4     Research   3.320373\n"
     ]
    }
   ],
   "source": [
    "# Initialize a DataFrame for VIF\n",
    "vif = pd.DataFrame()\n",
    "vif['Variable'] = X_train_scaled.columns\n",
    "\n",
    "# Calculate VIF for each feature\n",
    "vif['VIF'] = [variance_inflation_factor(X_train_scaled.values, i) for i in range(X_train_scaled.shape[1])]\n",
    "\n",
    "# Display VIF results\n",
    "print(vif)"
   ]
  },
  {
   "cell_type": "markdown",
   "id": "ddbd919d",
   "metadata": {},
   "source": [
    "- We observe that nearly all variables, except for Research, exhibit a high degree of collinearity. This aligns with the findings from the correlation heatmap, which indicated strong positive correlations among GRE Score, TOEFL Score, and CGPA."
   ]
  },
  {
   "cell_type": "markdown",
   "id": "8a54a581",
   "metadata": {},
   "source": [
    "**8.2) Mean of residuals.**\n",
    "\n",
    "- Residuals in regression analysis represent the difference between the observed values and the predicted values of the target variable. The mean of residuals represents the average of residual values in a regression model. In simple terms, a residual is the error or the amount by which the model's prediction deviates from the actual data point.\n",
    "\n",
    "- Formula:\n",
    "   - Residual = Actual value (y) - Predicted value (ŷ)"
   ]
  },
  {
   "cell_type": "code",
   "execution_count": 36,
   "id": "0b791c58",
   "metadata": {},
   "outputs": [
    {
     "name": "stdout",
     "output_type": "stream",
     "text": [
      "Mean of Residuals:  -0.005305947942348672\n"
     ]
    }
   ],
   "source": [
    "residuals = Y_test.values - Y_pred_test\n",
    "print('Mean of Residuals: ', residuals.mean())\n"
   ]
  },
  {
   "cell_type": "markdown",
   "id": "56ab7050",
   "metadata": {},
   "source": [
    "- The mean of residuals being close to zero is a positive indication that our linear regression model has a reasonably balanced fit. "
   ]
  },
  {
   "cell_type": "markdown",
   "id": "32a2cf7d",
   "metadata": {},
   "source": [
    "**8.3) Linear relationship between independent & dependent variables.**\n",
    "\n",
    "- In linear regression, the linearity assumption means that the independent variables should have a straight-line relationship with the dependent variable. The effect of the independent variables should remain constant as they change.\n",
    "\n",
    "- When we talk about \"no pattern in the residual plot,\" it means the differences between the actual and predicted values (residuals) should be randomly scattered around zero. This indicates that the model has captured the linear relationship well.\n",
    "\n",
    "- However, if the residuals show a clear pattern (like a curve, U-shape, or funnel shape), it suggests the model is missing some non-linear relationships or has other issues. In these cases, adjustments like transformations, adding polynomial terms, or trying a different model may be needed to improve the fit."
   ]
  },
  {
   "cell_type": "code",
   "execution_count": 37,
   "id": "9a74e8e9",
   "metadata": {},
   "outputs": [
    {
     "data": {
      "image/png": "[encoded data removed]",
      "text/plain": [
       "<Figure size 432x288 with 1 Axes>"
      ]
     },
     "metadata": {
      "needs_background": "light"
     },
     "output_type": "display_data"
    }
   ],
   "source": [
    "# Residual plot\n",
    "plt.figure(figsize=(6, 4))\n",
    "sns.residplot(x=y_pred_test, y=residuals, lowess=True, color='blue', line_kws={'color': 'red'})\n",
    "plt.title('Residual Plot')\n",
    "plt.xlabel('Predicted Values')\n",
    "plt.ylabel('Residuals')\n",
    "plt.axhline(0, color='red', linestyle='--')\n",
    "plt.show()"
   ]
  },
  {
   "cell_type": "markdown",
   "id": "63000818",
   "metadata": {},
   "source": [
    "- As residual plot shows no clear pattern or trend in residuals, we can conclude there is Linear relationship between independent & dependent variables."
   ]
  },
  {
   "cell_type": "markdown",
   "id": "3c9c57de",
   "metadata": {},
   "source": [
    "**8.4) Homoscedasticity**\n",
    "\n",
    "- Homoscedasticity in regression analysis means that the variance of residuals (errors) remains constant across all levels of independent variables. In simple terms, the spread of residuals should be similar regardless of predictor values. When homoscedasticity is violated, it leads to biased and unreliable regression estimates. <br><br>\n",
    "\n",
    "- To test for homoscedasticity:\n",
    "  - Residual plot: Check for consistent spread of residuals across predicted values or predictors.\n",
    "  - Scatterplot: Plot residuals against each independent variable separately to identify trends.\n",
    "  - Breusch-Pagan Test: Statistical test for homoscedasticity (p-value > 0.05 suggests no violation).\n",
    "  - Goldfeld-Quandt Test: Compares residual variances in data subsets to detect differences."
   ]
  },
  {
   "cell_type": "code",
   "execution_count": 38,
   "id": "5a10844a",
   "metadata": {},
   "outputs": [
    {
     "data": {
      "image/png": "[encoded data removed]",
      "text/plain": [
       "<Figure size 864x432 with 4 Axes>"
      ]
     },
     "metadata": {
      "needs_background": "light"
     },
     "output_type": "display_data"
    }
   ],
   "source": [
    "# Scatterplot of residuals with each independent variable to check for Homoscedasticity\n",
    "plt.figure(figsize=(12,6))\n",
    "i=1\n",
    "for col in X_test_scaled.columns[:-1]:\n",
    "    ax = plt.subplot(2,2,i)\n",
    "    sns.scatterplot(x=X_test_scaled[col].values.reshape((-1,)), y=residuals.reshape((-1,)))\n",
    "    plt.title(f'Residual Plot with {col}')\n",
    "    plt.xlabel(col)\n",
    "    plt.ylabel('Residual')\n",
    "    i+=1\n",
    "\n",
    "plt.tight_layout()\n",
    "plt.show();"
   ]
  },
  {
   "cell_type": "markdown",
   "id": "b8291bb3",
   "metadata": {},
   "source": [
    "Since there is no notable variation in the spread of residuals as the independent variables change, we can say that the assumption of homoscedasticity is satisfied."
   ]
  },
  {
   "cell_type": "markdown",
   "id": "723d2a99",
   "metadata": {},
   "source": [
    "**Goldfeld-Quandt Test**\n"
   ]
  },
  {
   "cell_type": "markdown",
   "id": "1f1f8873",
   "metadata": {},
   "source": [
    "**Formulating Hypothesis:**\n",
    "- Null Hypothesis(H0): The residuals have constant variance (homoscedasticity).\n",
    "- Alternative Hypothesis(Ha): The residuals have non-constant variance (heteroscedasticity). The test can check for increasing or decreasing variance across the data."
   ]
  },
  {
   "cell_type": "code",
   "execution_count": 39,
   "id": "9984e0d7",
   "metadata": {},
   "outputs": [
    {
     "name": "stdout",
     "output_type": "stream",
     "text": [
      "F-statistic: 0.5970049723189744\n",
      "P-value: 0.9546659405917642\n"
     ]
    }
   ],
   "source": [
    "# Perform Goldfeld-Quandt Test\n",
    "X_test_const = sm.add_constant(X_test_scaled)\n",
    "# Reset index for both Y_test and X_test_const to ensure they are aligned\n",
    "Y_test = Y_test.reset_index(drop=True)\n",
    "X_test_const = X_test_const.reset_index(drop=True)\n",
    "\n",
    "gq_test = het_goldfeldquandt(Y_test, X_test_const)\n",
    "# Output the results\n",
    "p_val = gq_test[1]\n",
    "print(f\"F-statistic: {gq_test[0]}\")\n",
    "print(f\"P-value: {p_val}\")\n",
    "\n"
   ]
  },
  {
   "cell_type": "code",
   "execution_count": 40,
   "id": "59312fe0",
   "metadata": {},
   "outputs": [
    {
     "name": "stdout",
     "output_type": "stream",
     "text": [
      "We fail to reject Ho: The residuals have constant variance (homoscedasticity).\n"
     ]
    }
   ],
   "source": [
    "if p_val > 0.05:\n",
    "    print('We fail to reject Ho: The residuals have constant variance (homoscedasticity).')\n",
    "else:\n",
    "    print('Reject H0: The residuals have non-constant variance (heteroscedasticity).')"
   ]
  },
  {
   "cell_type": "markdown",
   "id": "1d13a15d",
   "metadata": {},
   "source": [
    "- Therefore we can conclude that the assumption of homoscedasticity is satisfied."
   ]
  },
  {
   "cell_type": "markdown",
   "id": "60a19f42",
   "metadata": {},
   "source": [
    "**8.5) Normality of residuals**\n",
    "- Normality of residuals refers to the assumption that the residuals (or errors) in a statistical model are normally distributed. Residuals are the differences between the observed values and the predicted values from the model.\n",
    "- The assumption of normality is important in many statistical analyses because it allows for the application of certain statistical tests and the validity of confidence intervals and hypothesis tests. When residuals are normally distributed, it implies that the errors are random, unbiased, and have consistent variability."
   ]
  },
  {
   "cell_type": "code",
   "execution_count": 41,
   "id": "9fab8293",
   "metadata": {},
   "outputs": [
    {
     "data": {
      "image/png": "[encoded data removed]",
      "text/plain": [
       "<Figure size 432x288 with 1 Axes>"
      ]
     },
     "metadata": {
      "needs_background": "light"
     },
     "output_type": "display_data"
    }
   ],
   "source": [
    "#Histogram of Residuals\n",
    "sns.histplot(residuals.reshape((-1,)), kde=True)\n",
    "plt.title('Histogram of Residuals')\n",
    "plt.xlabel('Value of Residuals')\n",
    "plt.ylabel('Count of Residuals')\n",
    "plt.show();"
   ]
  },
  {
   "cell_type": "code",
   "execution_count": 42,
   "id": "5ecb6139",
   "metadata": {},
   "outputs": [
    {
     "name": "stderr",
     "output_type": "stream",
     "text": [
      "D:\\anac\\lib\\site-packages\\statsmodels\\graphics\\gofplots.py:993: UserWarning: marker is redundantly defined by the 'marker' keyword argument and the fmt string \"bo\" (-> marker='o'). The keyword argument will take precedence.\n",
      "  ax.plot(x, y, fmt, **plot_style)\n"
     ]
    },
    {
     "data": {
      "image/png": "[encoded data removed]",
      "text/plain": [
       "<Figure size 432x288 with 1 Axes>"
      ]
     },
     "metadata": {
      "needs_background": "light"
     },
     "output_type": "display_data"
    }
   ],
   "source": [
    "# QQ-Plot of residuals\n",
    "sm.qqplot(residuals.reshape((-1,)), line = 's')\n",
    "plt.title('QQ Plot of Residuals')\n",
    "plt.ylabel('Residual Quantiles')\n",
    "plt.show();"
   ]
  },
  {
   "cell_type": "markdown",
   "id": "8d7e05a7",
   "metadata": {},
   "source": [
    "- The residuals are approximately normally distributed, supporting the validity of the linear regression model. Minor deviations in the lower range indicate a few larger-than-expected negative residuals, suggesting slight skewness or potential outliers. Overall, the model is reliable and well-suited for the data, with minor areas for potential refinement. Further adjustments may be considered if accuracy in the lower range is crucial."
   ]
  },
  {
   "cell_type": "markdown",
   "id": "f6a56a2a",
   "metadata": {},
   "source": [
    "### 9. Visualizing y_test and y_pred_test to assess prediction spread"
   ]
  },
  {
   "cell_type": "code",
   "execution_count": 43,
   "id": "07a6e69a",
   "metadata": {},
   "outputs": [
    {
     "data": {
      "text/plain": [
       "Text(0, 0.5, 'Y_pred_test')"
      ]
     },
     "execution_count": 43,
     "metadata": {},
     "output_type": "execute_result"
    },
    {
     "data": {
      "image/png": "[encoded data removed]",
      "text/plain": [
       "<Figure size 432x288 with 1 Axes>"
      ]
     },
     "metadata": {
      "needs_background": "light"
     },
     "output_type": "display_data"
    }
   ],
   "source": [
    "# Plotting y_test and y_pred_test to understand the spread.\n",
    "fig = plt.figure()\n",
    "plt.scatter(Y_test.values, y_pred_test)\n",
    "fig.suptitle('Y_test vs y_pred_test', fontsize=20) \n",
    "plt.xlabel('Y_test', fontsize=18)\n",
    "plt.ylabel('Y_pred_test', fontsize=16) "
   ]
  },
  {
   "cell_type": "markdown",
   "id": "e6b160d6",
   "metadata": {},
   "source": [
    "In this case study, based on our scatter plot, it seems that the model performs better (i.e, predictions are more accurate) when the values of the exam scores are higher, while there is more scatter (i.e., less accurate predictions) for lower exam score values. This can suggest that the model might not be fully capturing the relationship between the predictors (exam scores) and the target variable for lower values of the predictors.\n",
    "\n",
    "#### 9.1) Can we implement using Polynomial Regression?\n",
    "Yes, **polynomial regression** might help in such situations where there is non-linearity in the relationship between the predictors and the target variable. For lower exam scores, if the relationship is not purely linear, using a polynomial transformation can allow the model to fit the data more closely.\n",
    "\n",
    "#### Steps to Take:\n",
    "1. **Add Polynomial Terms**: Start with a low degree (e.g., degree = 2) and use cross-validation to ensure you're not overfitting the model.\n",
    "2. **Regularization**: If adding polynomial terms, consider using Ridge or Lasso regression to prevent overfitting, especially with high-degree polynomial terms.\n",
    "\n",
    "In summary, since the model struggles with lower values of exam scores, adding polynomial features might improve the predictions by capturing more complex relationships in the data."
   ]
  },
  {
   "cell_type": "markdown",
   "id": "1b19c169",
   "metadata": {},
   "source": [
    "### 10. Polynomial Regression"
   ]
  },
  {
   "cell_type": "code",
   "execution_count": 44,
   "id": "c715e8d5",
   "metadata": {},
   "outputs": [],
   "source": [
    "X.drop(['University Rating', 'SOP'], axis=1, inplace=True)\n",
    "#Splitting dataset into train,validation and test set\n",
    "X_tr_cv, X_test, y_tr_cv, y_test = train_test_split(X, y, test_size=0.2, random_state=1)\n",
    "\n",
    "X_train, X_val, y_train, y_val = train_test_split(X_tr_cv, y_tr_cv, test_size=0.25,random_state=1)"
   ]
  },
  {
   "cell_type": "code",
   "execution_count": 45,
   "id": "95f9e390",
   "metadata": {},
   "outputs": [
    {
     "name": "stdout",
     "output_type": "stream",
     "text": [
      "X_train: (300, 5)\n",
      "X_val: (100, 5)\n",
      "X_test (100, 5)\n"
     ]
    }
   ],
   "source": [
    "print(\"X_train:\",X_train.shape)\n",
    "print(\"X_val:\",X_val.shape)\n",
    "print(\"X_test\",X_test.shape)"
   ]
  },
  {
   "cell_type": "code",
   "execution_count": 46,
   "id": "f2c71589",
   "metadata": {},
   "outputs": [],
   "source": [
    "def adj_r2(X,Y, r2):\n",
    "\n",
    "    res = (1 - ((1-r2)*(len(Y)-1))/(len(Y)-X.shape[1]-1) )\n",
    "    return res"
   ]
  },
  {
   "cell_type": "code",
   "execution_count": 47,
   "id": "41d1f323",
   "metadata": {},
   "outputs": [
    {
     "data": {
      "image/png": "[encoded data removed]",
      "text/plain": [
       "<Figure size 432x288 with 1 Axes>"
      ]
     },
     "metadata": {
      "needs_background": "light"
     },
     "output_type": "display_data"
    }
   ],
   "source": [
    "#To get best degree of polynomial\n",
    "max_degree = 11 # max polynomial degree\n",
    "\n",
    "train_scores = []\n",
    "val_scores = []\n",
    "\n",
    "scaler = StandardScaler()\n",
    "\n",
    "\n",
    "for degree in range(1, max_degree):\n",
    "\n",
    "    polyreg_scaled = make_pipeline(PolynomialFeatures(degree), scaler, Ridge())\n",
    "    polyreg_scaled.fit(X_train, y_train)\n",
    "\n",
    "    train_score = adj_r2(X_train, y_train, polyreg_scaled.score(X_train, y_train))\n",
    "    val_score= adj_r2(X_val, y_val, polyreg_scaled.score(X_val, y_val))\n",
    "\n",
    "    train_scores.append(train_score)\n",
    "    val_scores.append(val_score)\n",
    "\n",
    "plt.figure()\n",
    "plt.plot(list(range(1, max_degree)), train_scores, label=\"train\")\n",
    "plt.plot(list(range(1, max_degree)), val_scores, label=\"val\")\n",
    "plt.legend(loc='lower right')\n",
    "plt.xlabel(\"degree\")\n",
    "plt.ylabel(\"adj. R-score\")\n",
    "plt.grid()\n",
    "plt.show()"
   ]
  },
  {
   "cell_type": "code",
   "execution_count": 48,
   "id": "44968617",
   "metadata": {},
   "outputs": [
    {
     "data": {
      "text/plain": [
       "0"
      ]
     },
     "execution_count": 48,
     "metadata": {},
     "output_type": "execute_result"
    }
   ],
   "source": [
    "val_scores[:5]\n",
    "np.argmax(val_scores)"
   ]
  },
  {
   "cell_type": "code",
   "execution_count": 49,
   "id": "d6f897c5",
   "metadata": {},
   "outputs": [
    {
     "data": {
      "text/plain": [
       "0.818216839842065"
      ]
     },
     "execution_count": 49,
     "metadata": {},
     "output_type": "execute_result"
    }
   ],
   "source": [
    "val_scores[8]"
   ]
  },
  {
   "cell_type": "code",
   "execution_count": 50,
   "id": "d5ea4bd5",
   "metadata": {},
   "outputs": [],
   "source": [
    "train_scores = []\n",
    "val_scores = []\n",
    "\n",
    "lambda_list = np.arange(0.01, 10, 0.1) # [0.01, 0.1, 1, 5, 10]\n",
    "\n",
    "for rate in lambda_list:\n",
    "    polyreg_scaled = make_pipeline(PolynomialFeatures(8), StandardScaler(), Ridge(alpha=rate))\n",
    "    polyreg_scaled.fit(X_train, y_train)\n",
    "\n",
    "    train_score = adj_r2(X_train, y_train, polyreg_scaled.score(X_train, y_train))\n",
    "    val_score= adj_r2(X_val, y_val, polyreg_scaled.score(X_val, y_val))\n",
    "\n",
    "    train_scores.append(train_score)\n",
    "    val_scores.append(val_score)"
   ]
  },
  {
   "cell_type": "code",
   "execution_count": 51,
   "id": "51d6f4e2",
   "metadata": {},
   "outputs": [
    {
     "data": {
      "image/png": "[encoded data removed]",
      "text/plain": [
       "<Figure size 432x288 with 1 Axes>"
      ]
     },
     "metadata": {
      "needs_background": "light"
     },
     "output_type": "display_data"
    }
   ],
   "source": [
    "plt.figure()\n",
    "plt.plot(lambda_list, train_scores, label=\"train\")\n",
    "plt.plot(lambda_list, val_scores, label=\"val\")\n",
    "plt.legend()\n",
    "plt.xlabel(\"lambda\")\n",
    "plt.ylabel(\"adj. R-score\")\n",
    "plt.grid()\n",
    "plt.show()"
   ]
  },
  {
   "cell_type": "code",
   "execution_count": 52,
   "id": "f6880e79",
   "metadata": {},
   "outputs": [
    {
     "name": "stdout",
     "output_type": "stream",
     "text": [
      "Training Score = 0.8211525603608538\n",
      "Validation Score = 0.814504193226637\n"
     ]
    }
   ],
   "source": [
    "final_model = make_pipeline(PolynomialFeatures(8), StandardScaler(), Ridge(alpha=0.2))\n",
    "\n",
    "final_model.fit(X_train, y_train)\n",
    "\n",
    "\n",
    "train_score = adj_r2(X_train, y_train, final_model.score(X_train, y_train))\n",
    "print(f'Training Score = {train_score}')\n",
    "\n",
    "val_score = adj_r2(X_val, y_val, final_model.score(X_val, y_val))\n",
    "print(f'Validation Score = {val_score}')"
   ]
  },
  {
   "cell_type": "code",
   "execution_count": 53,
   "id": "aec026a9",
   "metadata": {},
   "outputs": [
    {
     "name": "stdout",
     "output_type": "stream",
     "text": [
      "Testing Score = 0.8143497030918623\n"
     ]
    },
    {
     "data": {
      "text/plain": [
       "Chance of Admit    -0.001859\n",
       "dtype: float64"
      ]
     },
     "execution_count": 53,
     "metadata": {},
     "output_type": "execute_result"
    }
   ],
   "source": [
    "test_score = adj_r2(X_test, y_test, final_model.score(X_test, y_test))\n",
    "print(f'Testing Score = {test_score}')\n",
    "y_pred_t = final_model.predict(X_test)\n",
    "a= np.mean(y_test - y_pred_t)\n",
    "a"
   ]
  },
  {
   "cell_type": "code",
   "execution_count": 54,
   "id": "2bb95e2e",
   "metadata": {},
   "outputs": [
    {
     "data": {
      "text/plain": [
       "Text(0, 0.5, 'Y_pred_test')"
      ]
     },
     "execution_count": 54,
     "metadata": {},
     "output_type": "execute_result"
    },
    {
     "data": {
      "image/png": "[encoded data removed]",
      "text/plain": [
       "<Figure size 432x288 with 1 Axes>"
      ]
     },
     "metadata": {
      "needs_background": "light"
     },
     "output_type": "display_data"
    }
   ],
   "source": [
    "actual_values = y_train.values\n",
    "fig = plt.figure()\n",
    "plt.scatter(y_test.values, y_pred_t)\n",
    "plt.plot([np.min(actual_values), np.max(actual_values)], [np.min(actual_values), np.max(actual_values)], 'r-')\n",
    "fig.suptitle('Y_test vs y_pred_test', fontsize=20) \n",
    "plt.xlabel('Y_test', fontsize=18)\n",
    "plt.ylabel('Y_pred_test', fontsize=16)"
   ]
  },
  {
   "cell_type": "markdown",
   "id": "c5a7f9a2",
   "metadata": {},
   "source": [
    "**Conclusion:**<br>\n",
    "Despite implementing a polynomial regression model to potentially improve predictions for lower exam score values, both the linear and polynomial models exhibit similar performance and visual patterns. This indicates that the relationship between exam scores and the target variable is sufficiently captured by the linear model, suggesting that added complexity may not be necessary. Further investigation into additional features or modeling techniques may be warranted to enhance predictions for lower score ranges."
   ]
  },
  {
   "cell_type": "markdown",
   "id": "a97d52da",
   "metadata": {},
   "source": [
    "\n",
    "### Inferences and Report\n",
    "\n",
    "1. **Dataset Overview**:\n",
    "   - The dataset contains **500 records** and **8 features**, including GRE Score, TOEFL Score, University Rating, SOP (Statement of Purpose), LOR (Letter of Recommendation), CGPA, Research Experience, and the target variable, Chance of Admit.\n",
    "   - There were no missing or duplicate values, and the data was well-prepared for analysis.<br><br>\n",
    "\n",
    "2. **Key Features and Statistical Summary**:\n",
    "   - **GRE Score** ranges from 290 to 340, and **TOEFL Score** ranges from 92 to 120, indicating a wide variation in applicant performance.\n",
    "   - **CGPA** has a strong positive correlation with the Chance of Admit, followed closely by GRE and TOEFL scores.\n",
    "   - **Research Experience** (binary: 0 or 1) also shows a positive influence on the likelihood of admission.<br><br>\n",
    "\n",
    "3. **Feature Impact Analysis**:\n",
    "   - Features like **CGPA, GRE Score, TOEFL Score, LOR,** and **Research** were identified as the most significant predictors of the Chance of Admit based on their high coefficients in the regression models.\n",
    "   - Features such as **University Rating** and **SOP** had lower statistical significance and were excluded in the refined model for better efficiency and interpretability.<br><br>\n",
    "\n",
    "4. **Model Evaluation and Performance**:\n",
    "   - The Linear Regression model achieved an **R² Score of 0.82**, indicating that the model explains 82% of the variance in the target variable (Chance of Admit).\n",
    "   - Error metrics such as **Mean Absolute Error (MAE), Mean Squared Error (MSE),** and **Root Mean Squared Error (RMSE)** were consistent across both training and testing datasets, suggesting the model generalizes well and is not overfitting.\n",
    "   - The stability of the **Adjusted R² Score** (0.81) further confirms that the model’s performance remained robust after dropping non-significant features.<br><br>\n",
    "\n",
    "5. **Multicollinearity and Model Refinement**:\n",
    "   - High VIF values for features like GRE Score, TOEFL Score, and CGPA indicated multicollinearity, which was addressed by carefully selecting features based on significance (p-values).\n",
    "   - The refined model excluded **University Rating** and **SOP**, leading to improved interpretability without sacrificing predictive power.<br><br>\n",
    "\n",
    "6. **Residual Analysis and Model Assumptions**:\n",
    "   - Residual analysis showed no clear pattern, supporting the linearity assumption of the model.\n",
    "   - Homoscedasticity was confirmed using the Goldfeld-Quandt Test, and residuals were approximately normally distributed, validating the model's assumptions.\n",
    "   - The model performed well across different ranges of exam scores, although it showed slightly less accuracy for lower scores, suggesting potential benefits from polynomial regression for future iterations.<br><br>\n",
    "\n",
    "7. **Overall Model Insights**:\n",
    "   - The final model is reliable and suitable for predicting the Chance of Admit based on the key academic and research-related features.\n",
    "   - Despite exploring polynomial regression, the added complexity did not yield significant performance gains, indicating that the linear model sufficiently captures the relationships in the data.<br><br>\n"
   ]
  },
  {
   "cell_type": "markdown",
   "id": "b846c356",
   "metadata": {},
   "source": [
    "\n",
    "### Actionable Insights and Recommendations \n",
    "\n",
    "1. **Focus on Key Predictors for Admissions**:\n",
    "   - Features like **GRE Score, TOEFL Score, CGPA, LOR (Letter of Recommendation), and Research** experience were found to have the most significant impact on predicting the chance of admission. Emphasize these factors in admissions guidance to help students improve their profiles.<br><br>\n",
    "\n",
    "2. **Streamline the Application Process**:\n",
    "   - Since features like **University Rating and SOP** did not contribute significantly to the model’s predictive power, Jamboree can consider de-emphasizing these factors in admissions consulting. This streamlining could simplify the application preparation process for students.<br><br>\n",
    "\n",
    "3. **Enhance Support for Lower Scoring Students**:\n",
    "   - The model performed well for higher exam scores but struggled with lower score predictions. Jamboree should consider offering targeted interventions or preparatory programs for students with lower scores to boost their admission chances.<br><br>\n",
    "\n",
    "4. **Leverage Research Experience in Student Profiles**:\n",
    "   - Students with research experience show a higher probability of admission. Encourage students to engage in research projects or internships, as this can positively impact their chances, especially for competitive universities.<br><br>\n",
    "\n",
    "5. **Regularly Update the Predictive Model**:\n",
    "   - Admissions criteria and trends can evolve. Implement a continuous monitoring process and periodically retrain the model with updated data to ensure it reflects the latest admissions patterns and provides accurate guidance.<br><br>\n",
    "\n",
    "6. **Consider Additional Features for Future Models**:\n",
    "   - Although the current model captures the main predictors well, exploring additional features (e.g., extracurricular activities, essay quality, work experience) may enhance prediction accuracy, particularly for students with lower academic scores.<br><br>\n",
    "\n",
    "7. **Implement a Feedback Loop for Model Improvement**:\n",
    "   - Establish a feedback mechanism with admissions consultants to identify discrepancies between predictions and actual admissions outcomes. Use this feedback to refine the model and adjust feature importance based on new insights.<br><br>\n",
    "\n",
    "8. **Simplify Student Guidance Based on Model Insights**:\n",
    "   - Based on the model’s findings, emphasize GRE, TOEFL, and CGPA as primary focus areas for students aiming to improve their chances of admission. Tailor your guidance programs to help students maximize their scores in these areas.<br><br>\n",
    "\n"
   ]
  }
 ],
 "metadata": {
  "kernelspec": {
   "display_name": "Python 3 (ipykernel)",
   "language": "python",
   "name": "python3"
  },
  "language_info": {
   "codemirror_mode": {
    "name": "ipython",
    "version": 3
   },
   "file_extension": ".py",
   "mimetype": "text/x-python",
   "name": "python",
   "nbconvert_exporter": "python",
   "pygments_lexer": "ipython3",
   "version": "3.9.7"
  }
 },
 "nbformat": 4,
 "nbformat_minor": 5
}
